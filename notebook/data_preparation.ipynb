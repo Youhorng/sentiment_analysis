{
 "cells": [
  {
   "cell_type": "markdown",
   "metadata": {
    "vscode": {
     "languageId": "plaintext"
    }
   },
   "source": [
    "### **Set Up**"
   ]
  },
  {
   "cell_type": "markdown",
   "metadata": {},
   "source": [
    "Import Libraries"
   ]
  },
  {
   "cell_type": "code",
   "execution_count": 36,
   "metadata": {},
   "outputs": [],
   "source": [
    "import pandas as pd\n",
    "import numpy as np\n",
    "import matplotlib.pyplot as plt\n",
    "import seaborn as sns \n",
    "from prettytable import PrettyTable\n",
    "import os"
   ]
  },
  {
   "cell_type": "markdown",
   "metadata": {},
   "source": [
    "Read Dataset"
   ]
  },
  {
   "cell_type": "code",
   "execution_count": 37,
   "metadata": {},
   "outputs": [
    {
     "data": {
      "application/vnd.microsoft.datawrangler.viewer.v0+json": {
       "columns": [
        {
         "name": "index",
         "rawType": "int64",
         "type": "integer"
        },
        {
         "name": "Id",
         "rawType": "int64",
         "type": "integer"
        },
        {
         "name": "ProductId",
         "rawType": "object",
         "type": "string"
        },
        {
         "name": "UserId",
         "rawType": "object",
         "type": "string"
        },
        {
         "name": "ProfileName",
         "rawType": "object",
         "type": "string"
        },
        {
         "name": "HelpfulnessNumerator",
         "rawType": "int64",
         "type": "integer"
        },
        {
         "name": "HelpfulnessDenominator",
         "rawType": "int64",
         "type": "integer"
        },
        {
         "name": "Score",
         "rawType": "int64",
         "type": "integer"
        },
        {
         "name": "Time",
         "rawType": "int64",
         "type": "integer"
        },
        {
         "name": "Summary",
         "rawType": "object",
         "type": "string"
        },
        {
         "name": "Text",
         "rawType": "object",
         "type": "string"
        }
       ],
       "ref": "e9299c15-b0aa-45a3-89b0-6d4a57f82182",
       "rows": [
        [
         "0",
         "1",
         "B001E4KFG0",
         "A3SGXH7AUHU8GW",
         "delmartian",
         "1",
         "1",
         "5",
         "1303862400",
         "Good Quality Dog Food",
         "I have bought several of the Vitality canned dog food products and have found them all to be of good quality. The product looks more like a stew than a processed meat and it smells better. My Labrador is finicky and she appreciates this product better than  most."
        ],
        [
         "1",
         "2",
         "B00813GRG4",
         "A1D87F6ZCVE5NK",
         "dll pa",
         "0",
         "0",
         "1",
         "1346976000",
         "Not as Advertised",
         "Product arrived labeled as Jumbo Salted Peanuts...the peanuts were actually small sized unsalted. Not sure if this was an error or if the vendor intended to represent the product as \"Jumbo\"."
        ],
        [
         "2",
         "3",
         "B000LQOCH0",
         "ABXLMWJIXXAIN",
         "Natalia Corres \"Natalia Corres\"",
         "1",
         "1",
         "4",
         "1219017600",
         "\"Delight\" says it all",
         "This is a confection that has been around a few centuries.  It is a light, pillowy citrus gelatin with nuts - in this case Filberts. And it is cut into tiny squares and then liberally coated with powdered sugar.  And it is a tiny mouthful of heaven.  Not too chewy, and very flavorful.  I highly recommend this yummy treat.  If you are familiar with the story of C.S. Lewis' \"The Lion, The Witch, and The Wardrobe\" - this is the treat that seduces Edmund into selling out his Brother and Sisters to the Witch."
        ],
        [
         "3",
         "4",
         "B000UA0QIQ",
         "A395BORC6FGVXV",
         "Karl",
         "3",
         "3",
         "2",
         "1307923200",
         "Cough Medicine",
         "If you are looking for the secret ingredient in Robitussin I believe I have found it.  I got this in addition to the Root Beer Extract I ordered (which was good) and made some cherry soda.  The flavor is very medicinal."
        ],
        [
         "4",
         "5",
         "B006K2ZZ7K",
         "A1UQRSCLF8GW1T",
         "Michael D. Bigham \"M. Wassir\"",
         "0",
         "0",
         "5",
         "1350777600",
         "Great taffy",
         "Great taffy at a great price.  There was a wide assortment of yummy taffy.  Delivery was very quick.  If your a taffy lover, this is a deal."
        ]
       ],
       "shape": {
        "columns": 10,
        "rows": 5
       }
      },
      "text/html": [
       "<div>\n",
       "<style scoped>\n",
       "    .dataframe tbody tr th:only-of-type {\n",
       "        vertical-align: middle;\n",
       "    }\n",
       "\n",
       "    .dataframe tbody tr th {\n",
       "        vertical-align: top;\n",
       "    }\n",
       "\n",
       "    .dataframe thead th {\n",
       "        text-align: right;\n",
       "    }\n",
       "</style>\n",
       "<table border=\"1\" class=\"dataframe\">\n",
       "  <thead>\n",
       "    <tr style=\"text-align: right;\">\n",
       "      <th></th>\n",
       "      <th>Id</th>\n",
       "      <th>ProductId</th>\n",
       "      <th>UserId</th>\n",
       "      <th>ProfileName</th>\n",
       "      <th>HelpfulnessNumerator</th>\n",
       "      <th>HelpfulnessDenominator</th>\n",
       "      <th>Score</th>\n",
       "      <th>Time</th>\n",
       "      <th>Summary</th>\n",
       "      <th>Text</th>\n",
       "    </tr>\n",
       "  </thead>\n",
       "  <tbody>\n",
       "    <tr>\n",
       "      <th>0</th>\n",
       "      <td>1</td>\n",
       "      <td>B001E4KFG0</td>\n",
       "      <td>A3SGXH7AUHU8GW</td>\n",
       "      <td>delmartian</td>\n",
       "      <td>1</td>\n",
       "      <td>1</td>\n",
       "      <td>5</td>\n",
       "      <td>1303862400</td>\n",
       "      <td>Good Quality Dog Food</td>\n",
       "      <td>I have bought several of the Vitality canned d...</td>\n",
       "    </tr>\n",
       "    <tr>\n",
       "      <th>1</th>\n",
       "      <td>2</td>\n",
       "      <td>B00813GRG4</td>\n",
       "      <td>A1D87F6ZCVE5NK</td>\n",
       "      <td>dll pa</td>\n",
       "      <td>0</td>\n",
       "      <td>0</td>\n",
       "      <td>1</td>\n",
       "      <td>1346976000</td>\n",
       "      <td>Not as Advertised</td>\n",
       "      <td>Product arrived labeled as Jumbo Salted Peanut...</td>\n",
       "    </tr>\n",
       "    <tr>\n",
       "      <th>2</th>\n",
       "      <td>3</td>\n",
       "      <td>B000LQOCH0</td>\n",
       "      <td>ABXLMWJIXXAIN</td>\n",
       "      <td>Natalia Corres \"Natalia Corres\"</td>\n",
       "      <td>1</td>\n",
       "      <td>1</td>\n",
       "      <td>4</td>\n",
       "      <td>1219017600</td>\n",
       "      <td>\"Delight\" says it all</td>\n",
       "      <td>This is a confection that has been around a fe...</td>\n",
       "    </tr>\n",
       "    <tr>\n",
       "      <th>3</th>\n",
       "      <td>4</td>\n",
       "      <td>B000UA0QIQ</td>\n",
       "      <td>A395BORC6FGVXV</td>\n",
       "      <td>Karl</td>\n",
       "      <td>3</td>\n",
       "      <td>3</td>\n",
       "      <td>2</td>\n",
       "      <td>1307923200</td>\n",
       "      <td>Cough Medicine</td>\n",
       "      <td>If you are looking for the secret ingredient i...</td>\n",
       "    </tr>\n",
       "    <tr>\n",
       "      <th>4</th>\n",
       "      <td>5</td>\n",
       "      <td>B006K2ZZ7K</td>\n",
       "      <td>A1UQRSCLF8GW1T</td>\n",
       "      <td>Michael D. Bigham \"M. Wassir\"</td>\n",
       "      <td>0</td>\n",
       "      <td>0</td>\n",
       "      <td>5</td>\n",
       "      <td>1350777600</td>\n",
       "      <td>Great taffy</td>\n",
       "      <td>Great taffy at a great price.  There was a wid...</td>\n",
       "    </tr>\n",
       "  </tbody>\n",
       "</table>\n",
       "</div>"
      ],
      "text/plain": [
       "   Id   ProductId          UserId                      ProfileName  \\\n",
       "0   1  B001E4KFG0  A3SGXH7AUHU8GW                       delmartian   \n",
       "1   2  B00813GRG4  A1D87F6ZCVE5NK                           dll pa   \n",
       "2   3  B000LQOCH0   ABXLMWJIXXAIN  Natalia Corres \"Natalia Corres\"   \n",
       "3   4  B000UA0QIQ  A395BORC6FGVXV                             Karl   \n",
       "4   5  B006K2ZZ7K  A1UQRSCLF8GW1T    Michael D. Bigham \"M. Wassir\"   \n",
       "\n",
       "   HelpfulnessNumerator  HelpfulnessDenominator  Score        Time  \\\n",
       "0                     1                       1      5  1303862400   \n",
       "1                     0                       0      1  1346976000   \n",
       "2                     1                       1      4  1219017600   \n",
       "3                     3                       3      2  1307923200   \n",
       "4                     0                       0      5  1350777600   \n",
       "\n",
       "                 Summary                                               Text  \n",
       "0  Good Quality Dog Food  I have bought several of the Vitality canned d...  \n",
       "1      Not as Advertised  Product arrived labeled as Jumbo Salted Peanut...  \n",
       "2  \"Delight\" says it all  This is a confection that has been around a fe...  \n",
       "3         Cough Medicine  If you are looking for the secret ingredient i...  \n",
       "4            Great taffy  Great taffy at a great price.  There was a wid...  "
      ]
     },
     "execution_count": 37,
     "metadata": {},
     "output_type": "execute_result"
    }
   ],
   "source": [
    "# Path to dataset \n",
    "path = \"/Users/youhorng/.cache/kagglehub/datasets/snap/amazon-fine-food-reviews/versions/2\"\n",
    "filename = \"Reviews.csv\"\n",
    "\n",
    "# Load the dataset\n",
    "df = pd.read_csv(os.path.join(path, filename))\n",
    "df.head()"
   ]
  },
  {
   "cell_type": "markdown",
   "metadata": {},
   "source": [
    "### **Data Understanding**"
   ]
  },
  {
   "cell_type": "markdown",
   "metadata": {},
   "source": [
    "Dataset Information"
   ]
  },
  {
   "cell_type": "code",
   "execution_count": 38,
   "metadata": {},
   "outputs": [
    {
     "name": "stdout",
     "output_type": "stream",
     "text": [
      "<class 'pandas.core.frame.DataFrame'>\n",
      "RangeIndex: 568454 entries, 0 to 568453\n",
      "Data columns (total 10 columns):\n",
      " #   Column                  Non-Null Count   Dtype \n",
      "---  ------                  --------------   ----- \n",
      " 0   Id                      568454 non-null  int64 \n",
      " 1   ProductId               568454 non-null  object\n",
      " 2   UserId                  568454 non-null  object\n",
      " 3   ProfileName             568428 non-null  object\n",
      " 4   HelpfulnessNumerator    568454 non-null  int64 \n",
      " 5   HelpfulnessDenominator  568454 non-null  int64 \n",
      " 6   Score                   568454 non-null  int64 \n",
      " 7   Time                    568454 non-null  int64 \n",
      " 8   Summary                 568427 non-null  object\n",
      " 9   Text                    568454 non-null  object\n",
      "dtypes: int64(5), object(5)\n",
      "memory usage: 43.4+ MB\n"
     ]
    }
   ],
   "source": [
    "# Check for basic information\n",
    "df.info()"
   ]
  },
  {
   "cell_type": "code",
   "execution_count": 39,
   "metadata": {},
   "outputs": [
    {
     "name": "stdout",
     "output_type": "stream",
     "text": [
      "Number of data points: 568454\n",
      "Number of columns: 10\n"
     ]
    }
   ],
   "source": [
    "# Shape of the dataset\n",
    "print(f\"Number of data points: {df.shape[0]}\")\n",
    "print(f\"Number of columns: {df.shape[1]}\")\n"
   ]
  },
  {
   "cell_type": "code",
   "execution_count": 40,
   "metadata": {},
   "outputs": [
    {
     "data": {
      "application/vnd.microsoft.datawrangler.viewer.v0+json": {
       "columns": [
        {
         "name": "index",
         "rawType": "object",
         "type": "string"
        },
        {
         "name": "0",
         "rawType": "int64",
         "type": "integer"
        }
       ],
       "ref": "32bd615b-c224-4421-9425-1dd81aa73aa9",
       "rows": [
        [
         "Id",
         "0"
        ],
        [
         "ProductId",
         "0"
        ],
        [
         "UserId",
         "0"
        ],
        [
         "ProfileName",
         "26"
        ],
        [
         "HelpfulnessNumerator",
         "0"
        ],
        [
         "HelpfulnessDenominator",
         "0"
        ],
        [
         "Score",
         "0"
        ],
        [
         "Time",
         "0"
        ],
        [
         "Summary",
         "27"
        ],
        [
         "Text",
         "0"
        ]
       ],
       "shape": {
        "columns": 1,
        "rows": 10
       }
      },
      "text/plain": [
       "Id                         0\n",
       "ProductId                  0\n",
       "UserId                     0\n",
       "ProfileName               26\n",
       "HelpfulnessNumerator       0\n",
       "HelpfulnessDenominator     0\n",
       "Score                      0\n",
       "Time                       0\n",
       "Summary                   27\n",
       "Text                       0\n",
       "dtype: int64"
      ]
     },
     "execution_count": 40,
     "metadata": {},
     "output_type": "execute_result"
    }
   ],
   "source": [
    "# Check for missing values \n",
    "df.isnull().sum()"
   ]
  },
  {
   "cell_type": "code",
   "execution_count": 41,
   "metadata": {},
   "outputs": [
    {
     "data": {
      "text/plain": [
       "0"
      ]
     },
     "execution_count": 41,
     "metadata": {},
     "output_type": "execute_result"
    }
   ],
   "source": [
    "# Check for duplication\n",
    "df.duplicated().sum()"
   ]
  },
  {
   "cell_type": "code",
   "execution_count": 42,
   "metadata": {},
   "outputs": [
    {
     "data": {
      "application/vnd.microsoft.datawrangler.viewer.v0+json": {
       "columns": [
        {
         "name": "index",
         "rawType": "object",
         "type": "string"
        },
        {
         "name": "Id",
         "rawType": "float64",
         "type": "float"
        },
        {
         "name": "HelpfulnessNumerator",
         "rawType": "float64",
         "type": "float"
        },
        {
         "name": "HelpfulnessDenominator",
         "rawType": "float64",
         "type": "float"
        },
        {
         "name": "Score",
         "rawType": "float64",
         "type": "float"
        },
        {
         "name": "Time",
         "rawType": "float64",
         "type": "float"
        }
       ],
       "ref": "cac9b621-4c7c-4d79-9c4c-33892e391642",
       "rows": [
        [
         "count",
         "568454.0",
         "568454.0",
         "568454.0",
         "568454.0",
         "568454.0"
        ],
        [
         "mean",
         "284227.5",
         "1.7438174416927315",
         "2.2288100708236724",
         "4.183198640523243",
         "1296256604.9024196"
        ],
        [
         "std",
         "164098.67929846357",
         "7.63651270682078",
         "8.289740293185584",
         "1.3104360248243063",
         "48043312.33241568"
        ],
        [
         "min",
         "1.0",
         "0.0",
         "0.0",
         "1.0",
         "939340800.0"
        ],
        [
         "25%",
         "142114.25",
         "0.0",
         "0.0",
         "4.0",
         "1271289600.0"
        ],
        [
         "50%",
         "284227.5",
         "0.0",
         "1.0",
         "5.0",
         "1311120000.0"
        ],
        [
         "75%",
         "426340.75",
         "2.0",
         "2.0",
         "5.0",
         "1332720000.0"
        ],
        [
         "max",
         "568454.0",
         "866.0",
         "923.0",
         "5.0",
         "1351209600.0"
        ]
       ],
       "shape": {
        "columns": 5,
        "rows": 8
       }
      },
      "text/html": [
       "<div>\n",
       "<style scoped>\n",
       "    .dataframe tbody tr th:only-of-type {\n",
       "        vertical-align: middle;\n",
       "    }\n",
       "\n",
       "    .dataframe tbody tr th {\n",
       "        vertical-align: top;\n",
       "    }\n",
       "\n",
       "    .dataframe thead th {\n",
       "        text-align: right;\n",
       "    }\n",
       "</style>\n",
       "<table border=\"1\" class=\"dataframe\">\n",
       "  <thead>\n",
       "    <tr style=\"text-align: right;\">\n",
       "      <th></th>\n",
       "      <th>Id</th>\n",
       "      <th>HelpfulnessNumerator</th>\n",
       "      <th>HelpfulnessDenominator</th>\n",
       "      <th>Score</th>\n",
       "      <th>Time</th>\n",
       "    </tr>\n",
       "  </thead>\n",
       "  <tbody>\n",
       "    <tr>\n",
       "      <th>count</th>\n",
       "      <td>568454.000000</td>\n",
       "      <td>568454.000000</td>\n",
       "      <td>568454.00000</td>\n",
       "      <td>568454.000000</td>\n",
       "      <td>5.684540e+05</td>\n",
       "    </tr>\n",
       "    <tr>\n",
       "      <th>mean</th>\n",
       "      <td>284227.500000</td>\n",
       "      <td>1.743817</td>\n",
       "      <td>2.22881</td>\n",
       "      <td>4.183199</td>\n",
       "      <td>1.296257e+09</td>\n",
       "    </tr>\n",
       "    <tr>\n",
       "      <th>std</th>\n",
       "      <td>164098.679298</td>\n",
       "      <td>7.636513</td>\n",
       "      <td>8.28974</td>\n",
       "      <td>1.310436</td>\n",
       "      <td>4.804331e+07</td>\n",
       "    </tr>\n",
       "    <tr>\n",
       "      <th>min</th>\n",
       "      <td>1.000000</td>\n",
       "      <td>0.000000</td>\n",
       "      <td>0.00000</td>\n",
       "      <td>1.000000</td>\n",
       "      <td>9.393408e+08</td>\n",
       "    </tr>\n",
       "    <tr>\n",
       "      <th>25%</th>\n",
       "      <td>142114.250000</td>\n",
       "      <td>0.000000</td>\n",
       "      <td>0.00000</td>\n",
       "      <td>4.000000</td>\n",
       "      <td>1.271290e+09</td>\n",
       "    </tr>\n",
       "    <tr>\n",
       "      <th>50%</th>\n",
       "      <td>284227.500000</td>\n",
       "      <td>0.000000</td>\n",
       "      <td>1.00000</td>\n",
       "      <td>5.000000</td>\n",
       "      <td>1.311120e+09</td>\n",
       "    </tr>\n",
       "    <tr>\n",
       "      <th>75%</th>\n",
       "      <td>426340.750000</td>\n",
       "      <td>2.000000</td>\n",
       "      <td>2.00000</td>\n",
       "      <td>5.000000</td>\n",
       "      <td>1.332720e+09</td>\n",
       "    </tr>\n",
       "    <tr>\n",
       "      <th>max</th>\n",
       "      <td>568454.000000</td>\n",
       "      <td>866.000000</td>\n",
       "      <td>923.00000</td>\n",
       "      <td>5.000000</td>\n",
       "      <td>1.351210e+09</td>\n",
       "    </tr>\n",
       "  </tbody>\n",
       "</table>\n",
       "</div>"
      ],
      "text/plain": [
       "                  Id  HelpfulnessNumerator  HelpfulnessDenominator  \\\n",
       "count  568454.000000         568454.000000            568454.00000   \n",
       "mean   284227.500000              1.743817                 2.22881   \n",
       "std    164098.679298              7.636513                 8.28974   \n",
       "min         1.000000              0.000000                 0.00000   \n",
       "25%    142114.250000              0.000000                 0.00000   \n",
       "50%    284227.500000              0.000000                 1.00000   \n",
       "75%    426340.750000              2.000000                 2.00000   \n",
       "max    568454.000000            866.000000               923.00000   \n",
       "\n",
       "               Score          Time  \n",
       "count  568454.000000  5.684540e+05  \n",
       "mean        4.183199  1.296257e+09  \n",
       "std         1.310436  4.804331e+07  \n",
       "min         1.000000  9.393408e+08  \n",
       "25%         4.000000  1.271290e+09  \n",
       "50%         5.000000  1.311120e+09  \n",
       "75%         5.000000  1.332720e+09  \n",
       "max         5.000000  1.351210e+09  "
      ]
     },
     "execution_count": 42,
     "metadata": {},
     "output_type": "execute_result"
    }
   ],
   "source": [
    "# Check for descriptive statistics\n",
    "df.describe()"
   ]
  },
  {
   "cell_type": "code",
   "execution_count": 43,
   "metadata": {},
   "outputs": [
    {
     "data": {
      "application/vnd.microsoft.datawrangler.viewer.v0+json": {
       "columns": [
        {
         "name": "index",
         "rawType": "object",
         "type": "string"
        },
        {
         "name": "ProductId",
         "rawType": "object",
         "type": "unknown"
        },
        {
         "name": "UserId",
         "rawType": "object",
         "type": "unknown"
        },
        {
         "name": "ProfileName",
         "rawType": "object",
         "type": "unknown"
        },
        {
         "name": "Summary",
         "rawType": "object",
         "type": "unknown"
        },
        {
         "name": "Text",
         "rawType": "object",
         "type": "unknown"
        }
       ],
       "ref": "d4d41041-c281-421f-875c-321343a1d72e",
       "rows": [
        [
         "count",
         "568454",
         "568454",
         "568428",
         "568427",
         "568454"
        ],
        [
         "unique",
         "74258",
         "256059",
         "218415",
         "295742",
         "393579"
        ],
        [
         "top",
         "B007JFMH8M",
         "A3OXHLG6DIBRW8",
         "C. F. Hill \"CFH\"",
         "Delicious!",
         "This review will make me sound really stupid, but whatever. I don't really care as long as people find out what's real and can avoid my mistakes.<br /><br />I got my wonderful little sweet Bella Bean when she was a few days shy of three years old. She had been bounced around from house to house and eating whatever was cheap. I have had cats around me my entire life, for about twenty-five years now. My mother always just fed them whatever, the kinds of food you buy in the supermarket - Friskies, Nine Lives, Kit & Kaboodle, stuff like that. And our cats were always fine, at least in terms of their eating habits. They would eat in the morning, stop when they were done, come back, and eat some more when they got hungry.<br /><br />My housemate at the time was working for Hill's and assured me that this was the best food ever made, so great, so on and so forth. I now know that she is an utter buffoon, but I initially trusted her judgment, which is so unfortunate because she doesn't think. She also had plenty of coupons for free or deeply discounted bags, which made it a much more attractive choice.<br /><br />I first tried feeding the little Bean an unmeasured amount of Science Diet in a bowl, but that didn't work, as she would devour it in one sitting. So then I took to measuring it, and she did the same thing. Then I started parsing it out to twice a day. That didn't work either, because she would start going crazy in the middle of the day, running around, intentionally destroying things, deliberately spilling her water, crying, etc., until she got more food. So then I split it into three servings. Same thing. Then it got to be four servings. That was a little better, but it was too much maintenance and unrealistic to be around every day to feed her four times. So then it went back to three. All the while, I was trying to reduce the amount of food I was feeding her to less than 3/4 of a cup because she was a little chubby. Reducing was hell. She became even more hungry, but I figured she would get used to it. Not really.<br /><br />For over a year, she would wake me up every morning looking for food in a serious way, knocking things off my desk, ripping up any paper she could find, scratching at the door and committing general acts of mischief. As soon as she got food, she was back to her sweet self, but only for three or four hours.<br /><br />We thought she was bored, we thought she was a little nutty, and maybe even had a kitty eating disorder. She always wanted food. It was kind of funny but in the end it was just sad.<br /><br />A few weeks back, we took her to a new (good, non-money factory) vet for her second checkup since I've had her. I talked with him about her being always hungry. He asked what she ate, and I told him the adult indoor Science Diet. Without saying as much, he basically told me that this food is garbage and I should look for something else. He said cat food should have a protein followed by a carbohydrate as the first two ingredients. Science Diet does, in a very loose, by-product kind of way - ground up slaughterhouse leftovers and corn dust. Then they put a bunch of vitamins in it to make it \"healthy,\" instead of just using good ingredients from the beginning. Not that I care about spending money on the Bean, but this food is way too expensive for what it is.<br /><br />So we began transitioning her onto Wellness indoor formula about two weeks ago. She is still eating 50 percent Science Diet with 50 percent Wellness (you really shouldn't just give a cat different food one day out of the blue) but SHE NEVER FREAKS OUT ANYMORE. It's amazing. And it's 100 percent because she is eating real food now, along with that sawdust and chicken hearts I still regrettable have to feed her. We have her down to eating twice a day, only 1/3 cup in TOTAL. She was eating three times a day, 5/8 of a cup in total. Now she eats some in the morning, walks away, eats some more a few hours later, and then looks for dinner about twelve hours after her initial feeding. No more knocking things over, no more trashing Dad's papers on the desk, no more howling, no more deliberately spilled water on the floor. It's incredible.<br /><br />I feel so bad that I was doing this to her for so long. We really thought she was just being dramatic or whatever. But no, she was genuinely hungry because she wasn't eating any real food.<br /><br />Do your cat a favor - buy her or him so food made with real ingredients, things you would eat - Wellness, Halo, Innova, Evo, whatever. Figure it out for yourself, but please don't feed your cat this. It's garbage."
        ],
        [
         "freq",
         "913",
         "448",
         "451",
         "2462",
         "199"
        ]
       ],
       "shape": {
        "columns": 5,
        "rows": 4
       }
      },
      "text/html": [
       "<div>\n",
       "<style scoped>\n",
       "    .dataframe tbody tr th:only-of-type {\n",
       "        vertical-align: middle;\n",
       "    }\n",
       "\n",
       "    .dataframe tbody tr th {\n",
       "        vertical-align: top;\n",
       "    }\n",
       "\n",
       "    .dataframe thead th {\n",
       "        text-align: right;\n",
       "    }\n",
       "</style>\n",
       "<table border=\"1\" class=\"dataframe\">\n",
       "  <thead>\n",
       "    <tr style=\"text-align: right;\">\n",
       "      <th></th>\n",
       "      <th>ProductId</th>\n",
       "      <th>UserId</th>\n",
       "      <th>ProfileName</th>\n",
       "      <th>Summary</th>\n",
       "      <th>Text</th>\n",
       "    </tr>\n",
       "  </thead>\n",
       "  <tbody>\n",
       "    <tr>\n",
       "      <th>count</th>\n",
       "      <td>568454</td>\n",
       "      <td>568454</td>\n",
       "      <td>568428</td>\n",
       "      <td>568427</td>\n",
       "      <td>568454</td>\n",
       "    </tr>\n",
       "    <tr>\n",
       "      <th>unique</th>\n",
       "      <td>74258</td>\n",
       "      <td>256059</td>\n",
       "      <td>218415</td>\n",
       "      <td>295742</td>\n",
       "      <td>393579</td>\n",
       "    </tr>\n",
       "    <tr>\n",
       "      <th>top</th>\n",
       "      <td>B007JFMH8M</td>\n",
       "      <td>A3OXHLG6DIBRW8</td>\n",
       "      <td>C. F. Hill \"CFH\"</td>\n",
       "      <td>Delicious!</td>\n",
       "      <td>This review will make me sound really stupid, ...</td>\n",
       "    </tr>\n",
       "    <tr>\n",
       "      <th>freq</th>\n",
       "      <td>913</td>\n",
       "      <td>448</td>\n",
       "      <td>451</td>\n",
       "      <td>2462</td>\n",
       "      <td>199</td>\n",
       "    </tr>\n",
       "  </tbody>\n",
       "</table>\n",
       "</div>"
      ],
      "text/plain": [
       "         ProductId          UserId       ProfileName     Summary  \\\n",
       "count       568454          568454            568428      568427   \n",
       "unique       74258          256059            218415      295742   \n",
       "top     B007JFMH8M  A3OXHLG6DIBRW8  C. F. Hill \"CFH\"  Delicious!   \n",
       "freq           913             448               451        2462   \n",
       "\n",
       "                                                     Text  \n",
       "count                                              568454  \n",
       "unique                                             393579  \n",
       "top     This review will make me sound really stupid, ...  \n",
       "freq                                                  199  "
      ]
     },
     "execution_count": 43,
     "metadata": {},
     "output_type": "execute_result"
    }
   ],
   "source": [
    "# Descriptive statistics for categorical columns\n",
    "df.describe(include=['object'])"
   ]
  },
  {
   "cell_type": "markdown",
   "metadata": {},
   "source": [
    "**Inference**: Based on the information about the **Amazon Fine Food Reviews** dataset above, we have found that:\n",
    "\n",
    "- There are 568,454 reviews in the dataset with 74,258 products. \n",
    "\n",
    "- There are 256,059 users who reviewed on the platform. \n",
    "\n",
    "- There are 10 features including the rating score from 1 to 5. \n",
    "\n",
    "- There is no duplication but with missing values in 2 columns:\n",
    "\n",
    "    - There are 26 missing values in `ProfileName`.\n",
    "\n",
    "    - There are 27 missing values in `Summary`."
   ]
  },
  {
   "cell_type": "markdown",
   "metadata": {},
   "source": [
    "Check Missing Values"
   ]
  },
  {
   "cell_type": "code",
   "execution_count": 44,
   "metadata": {},
   "outputs": [
    {
     "data": {
      "application/vnd.microsoft.datawrangler.viewer.v0+json": {
       "columns": [
        {
         "name": "index",
         "rawType": "int64",
         "type": "integer"
        },
        {
         "name": "Id",
         "rawType": "int64",
         "type": "integer"
        },
        {
         "name": "ProductId",
         "rawType": "object",
         "type": "string"
        },
        {
         "name": "UserId",
         "rawType": "object",
         "type": "string"
        },
        {
         "name": "ProfileName",
         "rawType": "object",
         "type": "unknown"
        },
        {
         "name": "HelpfulnessNumerator",
         "rawType": "int64",
         "type": "integer"
        },
        {
         "name": "HelpfulnessDenominator",
         "rawType": "int64",
         "type": "integer"
        },
        {
         "name": "Score",
         "rawType": "int64",
         "type": "integer"
        },
        {
         "name": "Time",
         "rawType": "int64",
         "type": "integer"
        },
        {
         "name": "Summary",
         "rawType": "object",
         "type": "string"
        },
        {
         "name": "Text",
         "rawType": "object",
         "type": "string"
        }
       ],
       "ref": "431eddd5-747e-45aa-a248-1678fbee5c57",
       "rows": [
        [
         "10616",
         "10617",
         "B002DHN956",
         "A1LSYR30XW7CFT",
         null,
         "1",
         "2",
         "5",
         "1291680000",
         "Awesome",
         "This is 72 for the price of like 24 at the grocery store. If only this were eligible for subscribe and save then it would be perfect. I would not be surprised if the price were to double soon. But I must say these are really good and at a good price."
        ],
        [
         "25509",
         "25510",
         "B000LKZB4Y",
         "A36BVYD0NT7Z0F",
         null,
         "0",
         "0",
         "5",
         "1314576000",
         "These are the best mints and no aspartame or BHT",
         "I was so shocked to find out that almost all gums have BHT.  I went to the health food store and got gum with Xylitol but I didn't like the taste.  B Fresh was the only one with Xylitol that didn't taste like aspartame.  I saw Newmans Own Organic Mints and was happy to see no aspartame or BHT and they are really good.  I hope the company starts making gum.  The only problem is the mints are made in Mexico.  What is the matter Americans can't make mints?"
        ],
        [
         "38874",
         "38875",
         "B000AYDGZ2",
         "A36BVYD0NT7Z0F",
         null,
         "2",
         "3",
         "1",
         "1278374400",
         "doesn't anyone care that they are putting BHT into their bodies?",
         "I called Kellogg's to see why Special K red berries has the natural preservative but Special K blueberry has the killer BHT.  The women who answered wasn't helpful and didn't know why. She also seemed annoyed with my question.  I won't even give my dog food with BHT why would I feed my family a cereal with BHT.  Why don't these company use the more natural and safer preservative like tocoperol etc?"
        ],
        [
         "47923",
         "47924",
         "B004SRH2B6",
         "A2DEHJJIEAPPBF",
         null,
         "0",
         "0",
         "5",
         "1338940800",
         "Great taste",
         "Enjoy drinking this brand.  Tastes as good as other coconut waters.  Bottle great for taking to work or wherever.  Recycle the bottle when done!"
        ],
        [
         "49800",
         "49801",
         "B000CRHQN0",
         "A2LYFY32LXQDON",
         null,
         "0",
         "0",
         "2",
         "1282608000",
         "They were melted and the chocolate had turned white",
         "We love these bars but i won't order them shipped from anywhere anymore.  They came melted, white, and didn't taste as good as they do when they are fresh."
        ],
        [
         "67077",
         "67078",
         "B0006348H2",
         "A2P0P67Y55SNOX",
         null,
         "1",
         "1",
         "5",
         "1314662400",
         "Wheatgrass",
         "Kitty seems to like this sprinkled on her food...Glad I bought 2, because I forgot to water one for a few days... Brown grass doesn't work..."
        ],
        [
         "106550",
         "106551",
         "B001EQ5DG0",
         "A1P500QXEG3IUZ",
         null,
         "0",
         "0",
         "5",
         "1326758400",
         "Finally!",
         "You cannot find this in the stores anymore, it's impossible to find.  The price sometimes can be ridiculous ranging up above $40 (REALLY!).  I orderd this on the subscribe and save under $18, but if the price increased, will discountinue it."
        ],
        [
         "121819",
         "121820",
         "B006N3I2SK",
         "A34F9B57SYQ5XR",
         null,
         "0",
         "0",
         "5",
         "1335312000",
         "Exactly what I ordered",
         "Very good coffee, very good price.  It can be difficult to find a strong decaf coffeein K cups, but these are great!"
        ],
        [
         "125452",
         "125453",
         "B001EO6ESS",
         "A34F9B57SYQ5XR",
         null,
         "0",
         "0",
         "5",
         "1335312000",
         "Exactly what I ordered",
         "Very good coffee, very good price.  It can be difficult to find a strong decaf coffeein K cups, but these are great!"
        ],
        [
         "137613",
         "137614",
         "B000CQE3HS",
         "AGT3BYX5P9SLH",
         null,
         "0",
         "0",
         "5",
         "1324684800",
         "awesome",
         "i love them they are amazing I would eat them everyday if i could afford to!my kids also love them"
        ],
        [
         "163191",
         "163192",
         "B000CQID1A",
         "AGT3BYX5P9SLH",
         null,
         "0",
         "0",
         "5",
         "1324684800",
         "awesome",
         "i love them they are amazing I would eat them everyday if i could afford to!my kids also love them"
        ],
        [
         "172462",
         "172463",
         "B001FA1L9I",
         "AC9U70TRGPDGJ",
         null,
         "0",
         "0",
         "5",
         "1289520000",
         "very good",
         "came in proper packaging.  Have loved British Heinz baked beans since I was a kid so was not disappointed!"
        ],
        [
         "211846",
         "211847",
         "B000CNB4LE",
         "A2DEHJJIEAPPBF",
         null,
         "0",
         "0",
         "5",
         "1338940800",
         "Great taste",
         "Enjoy drinking this brand.  Tastes as good as other coconut waters.  Bottle great for taking to work or wherever.  Recycle the bottle when done!"
        ],
        [
         "268648",
         "268649",
         "B004SRFYMK",
         "A2DEHJJIEAPPBF",
         null,
         "0",
         "0",
         "5",
         "1338940800",
         "Great taste",
         "Enjoy drinking this brand.  Tastes as good as other coconut waters.  Bottle great for taking to work or wherever.  Recycle the bottle when done!"
        ],
        [
         "297275",
         "297276",
         "B007OXJM6E",
         "A29D7XVSBCLFLD",
         null,
         "0",
         "0",
         "1",
         "1325203200",
         "Burnt",
         "The last SEVERAL time we bought this it tasted burnt...waste of our money to keep getting boxes of coffee that didn't taste good...so we quit buying it!"
        ],
        [
         "306751",
         "306752",
         "B000RI1W8E",
         "AGT3BYX5P9SLH",
         null,
         "0",
         "0",
         "5",
         "1324684800",
         "awesome",
         "i love them they are amazing I would eat them everyday if i could afford to!my kids also love them"
        ],
        [
         "331647",
         "331648",
         "B0000GHNTU",
         "A1PZJLGDQSLZWE",
         null,
         "0",
         "0",
         "4",
         "1335139200",
         "Great product - Lousy Customer Service",
         "This sauce is excellent. Medium hot with smoky undertones and a distinctive sweetness. Goes great with a variety of dishes from different ethnic origins.<br />The company that sells it is a different story. No customer service ethic at all. When ordering strongly request good packaging, otherwise you will receive the product broken and the company will not even acknowledge responsibility."
        ],
        [
         "358674",
         "358675",
         "B003CIBPN8",
         "A2DEHJJIEAPPBF",
         null,
         "0",
         "0",
         "5",
         "1338940800",
         "Great taste",
         "Enjoy drinking this brand.  Tastes as good as other coconut waters.  Bottle great for taking to work or wherever.  Recycle the bottle when done!"
        ],
        [
         "431598",
         "431599",
         "B000W5P0KI",
         "A36BVYD0NT7Z0F",
         null,
         "13",
         "21",
         "1",
         "1298937600",
         "WARNING:  Please read before feeding",
         "WARNING:  I use to feed my dogs Orijen 75% protein but the last few months my dogs have had really bad diarrhea.  We thought one would need IV fluids because he was getting dehydrated.  I looked at the bag and saw they now changed to 80% protein and now use sodium selenite which I would never buy a food with this ingredient.  Instead of getting better they are getting worse.  80% protein is a lot for a non working dog. And now with the recall, I have to look for another brand of dog food with selenium yeast, no ethoxyquin, no BHT etc. Also, the company that once was great in customer service now refuses to answer e-mail questions.  What are they hiding.  This use to be a good quality dog food that I use to recommend to everyone.  When I returned the 80% protein bag back the girl said a lot of people have been complaining and they aren't recommending this brand anymore."
        ],
        [
         "440825",
         "440826",
         "B008LFAS08",
         "AC0E8TXIYABB5",
         null,
         "1",
         "1",
         "5",
         "1350432000",
         "The perfect grinder for dog and cat food!",
         "this grinder is super easy to assemble and operate, after grinding 100 pounds of dog/cat food by hand, decided it was time to break down and go electric grinder, so far tested with a \"mini\" grind and was super fast, easy to set up, run and clean up, wash all parts by hand, it took a couple min. and dried and stored...took bone in raw chicken, carrots( cut in 1/4 s yams, all with ease.... comes with excellent instructions too, was going to go with the turbo 3000, had a few questions, so called Jim, who suggested this unit and it fills my needs 100% My husband and I could not be happier!<br />Nan"
        ],
        [
         "461668",
         "461669",
         "B008K9TJDM",
         "A34F9B57SYQ5XR",
         null,
         "0",
         "0",
         "5",
         "1335312000",
         "Exactly what I ordered",
         "Very good coffee, very good price.  It can be difficult to find a strong decaf coffeein K cups, but these are great!"
        ],
        [
         "490412",
         "490413",
         "B000CQE3IC",
         "AGT3BYX5P9SLH",
         null,
         "0",
         "0",
         "5",
         "1324684800",
         "awesome",
         "i love them they are amazing I would eat them everyday if i could afford to!my kids also love them"
        ],
        [
         "491728",
         "491729",
         "B004772PJQ",
         "A29D7XVSBCLFLD",
         null,
         "0",
         "0",
         "1",
         "1325203200",
         "Burnt",
         "The last SEVERAL time we bought this it tasted burnt...waste of our money to keep getting boxes of coffee that didn't taste good...so we quit buying it!"
        ],
        [
         "515436",
         "515437",
         "B004S04X4W",
         "A2H7605OSHVIQ5",
         null,
         "0",
         "0",
         "5",
         "1348704000",
         "Hormel Roast Beef Hash, 15-Ounce",
         "I've been buying this in the grocery stores from time to time, and it is very good, it's milder and a lot less fat than corned beef.Now I can order it from Amazon and it will be delivered to my door."
        ],
        [
         "517676",
         "517677",
         "B008CIS05O",
         "A1VIUQE908L3M3",
         null,
         "0",
         "0",
         "5",
         "1349308800",
         "Classis Dentyne Spearmint Gum",
         "It is just what I wanted and as I remembered it being. Can't find it in local stores in my area so I was very glad to find it online."
        ],
        [
         "560446",
         "560447",
         "B000CQID1K",
         "AGT3BYX5P9SLH",
         null,
         "0",
         "0",
         "5",
         "1324684800",
         "awesome",
         "i love them they are amazing I would eat them everyday if i could afford to!my kids also love them"
        ]
       ],
       "shape": {
        "columns": 10,
        "rows": 26
       }
      },
      "text/html": [
       "<div>\n",
       "<style scoped>\n",
       "    .dataframe tbody tr th:only-of-type {\n",
       "        vertical-align: middle;\n",
       "    }\n",
       "\n",
       "    .dataframe tbody tr th {\n",
       "        vertical-align: top;\n",
       "    }\n",
       "\n",
       "    .dataframe thead th {\n",
       "        text-align: right;\n",
       "    }\n",
       "</style>\n",
       "<table border=\"1\" class=\"dataframe\">\n",
       "  <thead>\n",
       "    <tr style=\"text-align: right;\">\n",
       "      <th></th>\n",
       "      <th>Id</th>\n",
       "      <th>ProductId</th>\n",
       "      <th>UserId</th>\n",
       "      <th>ProfileName</th>\n",
       "      <th>HelpfulnessNumerator</th>\n",
       "      <th>HelpfulnessDenominator</th>\n",
       "      <th>Score</th>\n",
       "      <th>Time</th>\n",
       "      <th>Summary</th>\n",
       "      <th>Text</th>\n",
       "    </tr>\n",
       "  </thead>\n",
       "  <tbody>\n",
       "    <tr>\n",
       "      <th>10616</th>\n",
       "      <td>10617</td>\n",
       "      <td>B002DHN956</td>\n",
       "      <td>A1LSYR30XW7CFT</td>\n",
       "      <td>NaN</td>\n",
       "      <td>1</td>\n",
       "      <td>2</td>\n",
       "      <td>5</td>\n",
       "      <td>1291680000</td>\n",
       "      <td>Awesome</td>\n",
       "      <td>This is 72 for the price of like 24 at the gro...</td>\n",
       "    </tr>\n",
       "    <tr>\n",
       "      <th>25509</th>\n",
       "      <td>25510</td>\n",
       "      <td>B000LKZB4Y</td>\n",
       "      <td>A36BVYD0NT7Z0F</td>\n",
       "      <td>NaN</td>\n",
       "      <td>0</td>\n",
       "      <td>0</td>\n",
       "      <td>5</td>\n",
       "      <td>1314576000</td>\n",
       "      <td>These are the best mints and no aspartame or BHT</td>\n",
       "      <td>I was so shocked to find out that almost all g...</td>\n",
       "    </tr>\n",
       "    <tr>\n",
       "      <th>38874</th>\n",
       "      <td>38875</td>\n",
       "      <td>B000AYDGZ2</td>\n",
       "      <td>A36BVYD0NT7Z0F</td>\n",
       "      <td>NaN</td>\n",
       "      <td>2</td>\n",
       "      <td>3</td>\n",
       "      <td>1</td>\n",
       "      <td>1278374400</td>\n",
       "      <td>doesn't anyone care that they are putting BHT ...</td>\n",
       "      <td>I called Kellogg's to see why Special K red be...</td>\n",
       "    </tr>\n",
       "    <tr>\n",
       "      <th>47923</th>\n",
       "      <td>47924</td>\n",
       "      <td>B004SRH2B6</td>\n",
       "      <td>A2DEHJJIEAPPBF</td>\n",
       "      <td>NaN</td>\n",
       "      <td>0</td>\n",
       "      <td>0</td>\n",
       "      <td>5</td>\n",
       "      <td>1338940800</td>\n",
       "      <td>Great taste</td>\n",
       "      <td>Enjoy drinking this brand.  Tastes as good as ...</td>\n",
       "    </tr>\n",
       "    <tr>\n",
       "      <th>49800</th>\n",
       "      <td>49801</td>\n",
       "      <td>B000CRHQN0</td>\n",
       "      <td>A2LYFY32LXQDON</td>\n",
       "      <td>NaN</td>\n",
       "      <td>0</td>\n",
       "      <td>0</td>\n",
       "      <td>2</td>\n",
       "      <td>1282608000</td>\n",
       "      <td>They were melted and the chocolate had turned ...</td>\n",
       "      <td>We love these bars but i won't order them ship...</td>\n",
       "    </tr>\n",
       "    <tr>\n",
       "      <th>67077</th>\n",
       "      <td>67078</td>\n",
       "      <td>B0006348H2</td>\n",
       "      <td>A2P0P67Y55SNOX</td>\n",
       "      <td>NaN</td>\n",
       "      <td>1</td>\n",
       "      <td>1</td>\n",
       "      <td>5</td>\n",
       "      <td>1314662400</td>\n",
       "      <td>Wheatgrass</td>\n",
       "      <td>Kitty seems to like this sprinkled on her food...</td>\n",
       "    </tr>\n",
       "    <tr>\n",
       "      <th>106550</th>\n",
       "      <td>106551</td>\n",
       "      <td>B001EQ5DG0</td>\n",
       "      <td>A1P500QXEG3IUZ</td>\n",
       "      <td>NaN</td>\n",
       "      <td>0</td>\n",
       "      <td>0</td>\n",
       "      <td>5</td>\n",
       "      <td>1326758400</td>\n",
       "      <td>Finally!</td>\n",
       "      <td>You cannot find this in the stores anymore, it...</td>\n",
       "    </tr>\n",
       "    <tr>\n",
       "      <th>121819</th>\n",
       "      <td>121820</td>\n",
       "      <td>B006N3I2SK</td>\n",
       "      <td>A34F9B57SYQ5XR</td>\n",
       "      <td>NaN</td>\n",
       "      <td>0</td>\n",
       "      <td>0</td>\n",
       "      <td>5</td>\n",
       "      <td>1335312000</td>\n",
       "      <td>Exactly what I ordered</td>\n",
       "      <td>Very good coffee, very good price.  It can be ...</td>\n",
       "    </tr>\n",
       "    <tr>\n",
       "      <th>125452</th>\n",
       "      <td>125453</td>\n",
       "      <td>B001EO6ESS</td>\n",
       "      <td>A34F9B57SYQ5XR</td>\n",
       "      <td>NaN</td>\n",
       "      <td>0</td>\n",
       "      <td>0</td>\n",
       "      <td>5</td>\n",
       "      <td>1335312000</td>\n",
       "      <td>Exactly what I ordered</td>\n",
       "      <td>Very good coffee, very good price.  It can be ...</td>\n",
       "    </tr>\n",
       "    <tr>\n",
       "      <th>137613</th>\n",
       "      <td>137614</td>\n",
       "      <td>B000CQE3HS</td>\n",
       "      <td>AGT3BYX5P9SLH</td>\n",
       "      <td>NaN</td>\n",
       "      <td>0</td>\n",
       "      <td>0</td>\n",
       "      <td>5</td>\n",
       "      <td>1324684800</td>\n",
       "      <td>awesome</td>\n",
       "      <td>i love them they are amazing I would eat them ...</td>\n",
       "    </tr>\n",
       "    <tr>\n",
       "      <th>163191</th>\n",
       "      <td>163192</td>\n",
       "      <td>B000CQID1A</td>\n",
       "      <td>AGT3BYX5P9SLH</td>\n",
       "      <td>NaN</td>\n",
       "      <td>0</td>\n",
       "      <td>0</td>\n",
       "      <td>5</td>\n",
       "      <td>1324684800</td>\n",
       "      <td>awesome</td>\n",
       "      <td>i love them they are amazing I would eat them ...</td>\n",
       "    </tr>\n",
       "    <tr>\n",
       "      <th>172462</th>\n",
       "      <td>172463</td>\n",
       "      <td>B001FA1L9I</td>\n",
       "      <td>AC9U70TRGPDGJ</td>\n",
       "      <td>NaN</td>\n",
       "      <td>0</td>\n",
       "      <td>0</td>\n",
       "      <td>5</td>\n",
       "      <td>1289520000</td>\n",
       "      <td>very good</td>\n",
       "      <td>came in proper packaging.  Have loved British ...</td>\n",
       "    </tr>\n",
       "    <tr>\n",
       "      <th>211846</th>\n",
       "      <td>211847</td>\n",
       "      <td>B000CNB4LE</td>\n",
       "      <td>A2DEHJJIEAPPBF</td>\n",
       "      <td>NaN</td>\n",
       "      <td>0</td>\n",
       "      <td>0</td>\n",
       "      <td>5</td>\n",
       "      <td>1338940800</td>\n",
       "      <td>Great taste</td>\n",
       "      <td>Enjoy drinking this brand.  Tastes as good as ...</td>\n",
       "    </tr>\n",
       "    <tr>\n",
       "      <th>268648</th>\n",
       "      <td>268649</td>\n",
       "      <td>B004SRFYMK</td>\n",
       "      <td>A2DEHJJIEAPPBF</td>\n",
       "      <td>NaN</td>\n",
       "      <td>0</td>\n",
       "      <td>0</td>\n",
       "      <td>5</td>\n",
       "      <td>1338940800</td>\n",
       "      <td>Great taste</td>\n",
       "      <td>Enjoy drinking this brand.  Tastes as good as ...</td>\n",
       "    </tr>\n",
       "    <tr>\n",
       "      <th>297275</th>\n",
       "      <td>297276</td>\n",
       "      <td>B007OXJM6E</td>\n",
       "      <td>A29D7XVSBCLFLD</td>\n",
       "      <td>NaN</td>\n",
       "      <td>0</td>\n",
       "      <td>0</td>\n",
       "      <td>1</td>\n",
       "      <td>1325203200</td>\n",
       "      <td>Burnt</td>\n",
       "      <td>The last SEVERAL time we bought this it tasted...</td>\n",
       "    </tr>\n",
       "    <tr>\n",
       "      <th>306751</th>\n",
       "      <td>306752</td>\n",
       "      <td>B000RI1W8E</td>\n",
       "      <td>AGT3BYX5P9SLH</td>\n",
       "      <td>NaN</td>\n",
       "      <td>0</td>\n",
       "      <td>0</td>\n",
       "      <td>5</td>\n",
       "      <td>1324684800</td>\n",
       "      <td>awesome</td>\n",
       "      <td>i love them they are amazing I would eat them ...</td>\n",
       "    </tr>\n",
       "    <tr>\n",
       "      <th>331647</th>\n",
       "      <td>331648</td>\n",
       "      <td>B0000GHNTU</td>\n",
       "      <td>A1PZJLGDQSLZWE</td>\n",
       "      <td>NaN</td>\n",
       "      <td>0</td>\n",
       "      <td>0</td>\n",
       "      <td>4</td>\n",
       "      <td>1335139200</td>\n",
       "      <td>Great product - Lousy Customer Service</td>\n",
       "      <td>This sauce is excellent. Medium hot with smoky...</td>\n",
       "    </tr>\n",
       "    <tr>\n",
       "      <th>358674</th>\n",
       "      <td>358675</td>\n",
       "      <td>B003CIBPN8</td>\n",
       "      <td>A2DEHJJIEAPPBF</td>\n",
       "      <td>NaN</td>\n",
       "      <td>0</td>\n",
       "      <td>0</td>\n",
       "      <td>5</td>\n",
       "      <td>1338940800</td>\n",
       "      <td>Great taste</td>\n",
       "      <td>Enjoy drinking this brand.  Tastes as good as ...</td>\n",
       "    </tr>\n",
       "    <tr>\n",
       "      <th>431598</th>\n",
       "      <td>431599</td>\n",
       "      <td>B000W5P0KI</td>\n",
       "      <td>A36BVYD0NT7Z0F</td>\n",
       "      <td>NaN</td>\n",
       "      <td>13</td>\n",
       "      <td>21</td>\n",
       "      <td>1</td>\n",
       "      <td>1298937600</td>\n",
       "      <td>WARNING:  Please read before feeding</td>\n",
       "      <td>WARNING:  I use to feed my dogs Orijen 75% pro...</td>\n",
       "    </tr>\n",
       "    <tr>\n",
       "      <th>440825</th>\n",
       "      <td>440826</td>\n",
       "      <td>B008LFAS08</td>\n",
       "      <td>AC0E8TXIYABB5</td>\n",
       "      <td>NaN</td>\n",
       "      <td>1</td>\n",
       "      <td>1</td>\n",
       "      <td>5</td>\n",
       "      <td>1350432000</td>\n",
       "      <td>The perfect grinder for dog and cat food!</td>\n",
       "      <td>this grinder is super easy to assemble and ope...</td>\n",
       "    </tr>\n",
       "    <tr>\n",
       "      <th>461668</th>\n",
       "      <td>461669</td>\n",
       "      <td>B008K9TJDM</td>\n",
       "      <td>A34F9B57SYQ5XR</td>\n",
       "      <td>NaN</td>\n",
       "      <td>0</td>\n",
       "      <td>0</td>\n",
       "      <td>5</td>\n",
       "      <td>1335312000</td>\n",
       "      <td>Exactly what I ordered</td>\n",
       "      <td>Very good coffee, very good price.  It can be ...</td>\n",
       "    </tr>\n",
       "    <tr>\n",
       "      <th>490412</th>\n",
       "      <td>490413</td>\n",
       "      <td>B000CQE3IC</td>\n",
       "      <td>AGT3BYX5P9SLH</td>\n",
       "      <td>NaN</td>\n",
       "      <td>0</td>\n",
       "      <td>0</td>\n",
       "      <td>5</td>\n",
       "      <td>1324684800</td>\n",
       "      <td>awesome</td>\n",
       "      <td>i love them they are amazing I would eat them ...</td>\n",
       "    </tr>\n",
       "    <tr>\n",
       "      <th>491728</th>\n",
       "      <td>491729</td>\n",
       "      <td>B004772PJQ</td>\n",
       "      <td>A29D7XVSBCLFLD</td>\n",
       "      <td>NaN</td>\n",
       "      <td>0</td>\n",
       "      <td>0</td>\n",
       "      <td>1</td>\n",
       "      <td>1325203200</td>\n",
       "      <td>Burnt</td>\n",
       "      <td>The last SEVERAL time we bought this it tasted...</td>\n",
       "    </tr>\n",
       "    <tr>\n",
       "      <th>515436</th>\n",
       "      <td>515437</td>\n",
       "      <td>B004S04X4W</td>\n",
       "      <td>A2H7605OSHVIQ5</td>\n",
       "      <td>NaN</td>\n",
       "      <td>0</td>\n",
       "      <td>0</td>\n",
       "      <td>5</td>\n",
       "      <td>1348704000</td>\n",
       "      <td>Hormel Roast Beef Hash, 15-Ounce</td>\n",
       "      <td>I've been buying this in the grocery stores fr...</td>\n",
       "    </tr>\n",
       "    <tr>\n",
       "      <th>517676</th>\n",
       "      <td>517677</td>\n",
       "      <td>B008CIS05O</td>\n",
       "      <td>A1VIUQE908L3M3</td>\n",
       "      <td>NaN</td>\n",
       "      <td>0</td>\n",
       "      <td>0</td>\n",
       "      <td>5</td>\n",
       "      <td>1349308800</td>\n",
       "      <td>Classis Dentyne Spearmint Gum</td>\n",
       "      <td>It is just what I wanted and as I remembered i...</td>\n",
       "    </tr>\n",
       "    <tr>\n",
       "      <th>560446</th>\n",
       "      <td>560447</td>\n",
       "      <td>B000CQID1K</td>\n",
       "      <td>AGT3BYX5P9SLH</td>\n",
       "      <td>NaN</td>\n",
       "      <td>0</td>\n",
       "      <td>0</td>\n",
       "      <td>5</td>\n",
       "      <td>1324684800</td>\n",
       "      <td>awesome</td>\n",
       "      <td>i love them they are amazing I would eat them ...</td>\n",
       "    </tr>\n",
       "  </tbody>\n",
       "</table>\n",
       "</div>"
      ],
      "text/plain": [
       "            Id   ProductId          UserId ProfileName  HelpfulnessNumerator  \\\n",
       "10616    10617  B002DHN956  A1LSYR30XW7CFT         NaN                     1   \n",
       "25509    25510  B000LKZB4Y  A36BVYD0NT7Z0F         NaN                     0   \n",
       "38874    38875  B000AYDGZ2  A36BVYD0NT7Z0F         NaN                     2   \n",
       "47923    47924  B004SRH2B6  A2DEHJJIEAPPBF         NaN                     0   \n",
       "49800    49801  B000CRHQN0  A2LYFY32LXQDON         NaN                     0   \n",
       "67077    67078  B0006348H2  A2P0P67Y55SNOX         NaN                     1   \n",
       "106550  106551  B001EQ5DG0  A1P500QXEG3IUZ         NaN                     0   \n",
       "121819  121820  B006N3I2SK  A34F9B57SYQ5XR         NaN                     0   \n",
       "125452  125453  B001EO6ESS  A34F9B57SYQ5XR         NaN                     0   \n",
       "137613  137614  B000CQE3HS   AGT3BYX5P9SLH         NaN                     0   \n",
       "163191  163192  B000CQID1A   AGT3BYX5P9SLH         NaN                     0   \n",
       "172462  172463  B001FA1L9I   AC9U70TRGPDGJ         NaN                     0   \n",
       "211846  211847  B000CNB4LE  A2DEHJJIEAPPBF         NaN                     0   \n",
       "268648  268649  B004SRFYMK  A2DEHJJIEAPPBF         NaN                     0   \n",
       "297275  297276  B007OXJM6E  A29D7XVSBCLFLD         NaN                     0   \n",
       "306751  306752  B000RI1W8E   AGT3BYX5P9SLH         NaN                     0   \n",
       "331647  331648  B0000GHNTU  A1PZJLGDQSLZWE         NaN                     0   \n",
       "358674  358675  B003CIBPN8  A2DEHJJIEAPPBF         NaN                     0   \n",
       "431598  431599  B000W5P0KI  A36BVYD0NT7Z0F         NaN                    13   \n",
       "440825  440826  B008LFAS08   AC0E8TXIYABB5         NaN                     1   \n",
       "461668  461669  B008K9TJDM  A34F9B57SYQ5XR         NaN                     0   \n",
       "490412  490413  B000CQE3IC   AGT3BYX5P9SLH         NaN                     0   \n",
       "491728  491729  B004772PJQ  A29D7XVSBCLFLD         NaN                     0   \n",
       "515436  515437  B004S04X4W  A2H7605OSHVIQ5         NaN                     0   \n",
       "517676  517677  B008CIS05O  A1VIUQE908L3M3         NaN                     0   \n",
       "560446  560447  B000CQID1K   AGT3BYX5P9SLH         NaN                     0   \n",
       "\n",
       "        HelpfulnessDenominator  Score        Time  \\\n",
       "10616                        2      5  1291680000   \n",
       "25509                        0      5  1314576000   \n",
       "38874                        3      1  1278374400   \n",
       "47923                        0      5  1338940800   \n",
       "49800                        0      2  1282608000   \n",
       "67077                        1      5  1314662400   \n",
       "106550                       0      5  1326758400   \n",
       "121819                       0      5  1335312000   \n",
       "125452                       0      5  1335312000   \n",
       "137613                       0      5  1324684800   \n",
       "163191                       0      5  1324684800   \n",
       "172462                       0      5  1289520000   \n",
       "211846                       0      5  1338940800   \n",
       "268648                       0      5  1338940800   \n",
       "297275                       0      1  1325203200   \n",
       "306751                       0      5  1324684800   \n",
       "331647                       0      4  1335139200   \n",
       "358674                       0      5  1338940800   \n",
       "431598                      21      1  1298937600   \n",
       "440825                       1      5  1350432000   \n",
       "461668                       0      5  1335312000   \n",
       "490412                       0      5  1324684800   \n",
       "491728                       0      1  1325203200   \n",
       "515436                       0      5  1348704000   \n",
       "517676                       0      5  1349308800   \n",
       "560446                       0      5  1324684800   \n",
       "\n",
       "                                                  Summary  \\\n",
       "10616                                             Awesome   \n",
       "25509    These are the best mints and no aspartame or BHT   \n",
       "38874   doesn't anyone care that they are putting BHT ...   \n",
       "47923                                         Great taste   \n",
       "49800   They were melted and the chocolate had turned ...   \n",
       "67077                                          Wheatgrass   \n",
       "106550                                           Finally!   \n",
       "121819                             Exactly what I ordered   \n",
       "125452                             Exactly what I ordered   \n",
       "137613                                            awesome   \n",
       "163191                                            awesome   \n",
       "172462                                          very good   \n",
       "211846                                        Great taste   \n",
       "268648                                        Great taste   \n",
       "297275                                              Burnt   \n",
       "306751                                            awesome   \n",
       "331647             Great product - Lousy Customer Service   \n",
       "358674                                        Great taste   \n",
       "431598               WARNING:  Please read before feeding   \n",
       "440825          The perfect grinder for dog and cat food!   \n",
       "461668                             Exactly what I ordered   \n",
       "490412                                            awesome   \n",
       "491728                                              Burnt   \n",
       "515436                   Hormel Roast Beef Hash, 15-Ounce   \n",
       "517676                      Classis Dentyne Spearmint Gum   \n",
       "560446                                            awesome   \n",
       "\n",
       "                                                     Text  \n",
       "10616   This is 72 for the price of like 24 at the gro...  \n",
       "25509   I was so shocked to find out that almost all g...  \n",
       "38874   I called Kellogg's to see why Special K red be...  \n",
       "47923   Enjoy drinking this brand.  Tastes as good as ...  \n",
       "49800   We love these bars but i won't order them ship...  \n",
       "67077   Kitty seems to like this sprinkled on her food...  \n",
       "106550  You cannot find this in the stores anymore, it...  \n",
       "121819  Very good coffee, very good price.  It can be ...  \n",
       "125452  Very good coffee, very good price.  It can be ...  \n",
       "137613  i love them they are amazing I would eat them ...  \n",
       "163191  i love them they are amazing I would eat them ...  \n",
       "172462  came in proper packaging.  Have loved British ...  \n",
       "211846  Enjoy drinking this brand.  Tastes as good as ...  \n",
       "268648  Enjoy drinking this brand.  Tastes as good as ...  \n",
       "297275  The last SEVERAL time we bought this it tasted...  \n",
       "306751  i love them they are amazing I would eat them ...  \n",
       "331647  This sauce is excellent. Medium hot with smoky...  \n",
       "358674  Enjoy drinking this brand.  Tastes as good as ...  \n",
       "431598  WARNING:  I use to feed my dogs Orijen 75% pro...  \n",
       "440825  this grinder is super easy to assemble and ope...  \n",
       "461668  Very good coffee, very good price.  It can be ...  \n",
       "490412  i love them they are amazing I would eat them ...  \n",
       "491728  The last SEVERAL time we bought this it tasted...  \n",
       "515436  I've been buying this in the grocery stores fr...  \n",
       "517676  It is just what I wanted and as I remembered i...  \n",
       "560446  i love them they are amazing I would eat them ...  "
      ]
     },
     "execution_count": 44,
     "metadata": {},
     "output_type": "execute_result"
    }
   ],
   "source": [
    "# ProfileName missing values\n",
    "df[df[\"ProfileName\"].isnull()]"
   ]
  },
  {
   "cell_type": "markdown",
   "metadata": {},
   "source": [
    "**Inference**: According to the rows with `ProfileName` as NaN, we can see that there is no pattern here, and the `UserId` is still available. So, nothing extraordinary here. "
   ]
  },
  {
   "cell_type": "code",
   "execution_count": 45,
   "metadata": {},
   "outputs": [
    {
     "data": {
      "application/vnd.microsoft.datawrangler.viewer.v0+json": {
       "columns": [
        {
         "name": "index",
         "rawType": "int64",
         "type": "integer"
        },
        {
         "name": "Id",
         "rawType": "int64",
         "type": "integer"
        },
        {
         "name": "ProductId",
         "rawType": "object",
         "type": "string"
        },
        {
         "name": "UserId",
         "rawType": "object",
         "type": "string"
        },
        {
         "name": "ProfileName",
         "rawType": "object",
         "type": "string"
        },
        {
         "name": "HelpfulnessNumerator",
         "rawType": "int64",
         "type": "integer"
        },
        {
         "name": "HelpfulnessDenominator",
         "rawType": "int64",
         "type": "integer"
        },
        {
         "name": "Score",
         "rawType": "int64",
         "type": "integer"
        },
        {
         "name": "Time",
         "rawType": "int64",
         "type": "integer"
        },
        {
         "name": "Summary",
         "rawType": "object",
         "type": "unknown"
        },
        {
         "name": "Text",
         "rawType": "object",
         "type": "string"
        }
       ],
       "ref": "4e013a6f-df7d-470c-b24a-238a804db44a",
       "rows": [
        [
         "33958",
         "33959",
         "B00412W76S",
         "A3TJPSWY2HE4BS",
         "S. Layton \"homeschool blogger\"",
         "1",
         "24",
         "2",
         "1173312000",
         null,
         "I only used two maybe three tea bags and got pregnant - can not drink during pregnancy.  Not a bad taste, but I'm not a big tea fan either."
        ],
        [
         "40548",
         "40549",
         "B00020HHRW",
         "A3TJPSWY2HE4BS",
         "S. Layton \"homeschool blogger\"",
         "1",
         "24",
         "2",
         "1173312000",
         null,
         "I only used two maybe three tea bags and got pregnant - can not drink during pregnancy.  Not a bad taste, but I'm not a big tea fan either."
        ],
        [
         "101106",
         "101107",
         "B0014B0HWK",
         "A3TJPSWY2HE4BS",
         "S. Layton \"homeschool blogger\"",
         "1",
         "24",
         "2",
         "1173312000",
         null,
         "I only used two maybe three tea bags and got pregnant - can not drink during pregnancy.  Not a bad taste, but I'm not a big tea fan either."
        ],
        [
         "102979",
         "102980",
         "B000FVDWU4",
         "A3TJPSWY2HE4BS",
         "S. Layton \"homeschool blogger\"",
         "1",
         "24",
         "2",
         "1173312000",
         null,
         "I only used two maybe three tea bags and got pregnant - can not drink during pregnancy.  Not a bad taste, but I'm not a big tea fan either."
        ],
        [
         "117515",
         "117516",
         "B0016B7Z32",
         "A3TJPSWY2HE4BS",
         "S. Layton \"homeschool blogger\"",
         "1",
         "24",
         "2",
         "1173312000",
         null,
         "I only used two maybe three tea bags and got pregnant - can not drink during pregnancy.  Not a bad taste, but I'm not a big tea fan either."
        ],
        [
         "155712",
         "155713",
         "B0009VO58S",
         "A3TJPSWY2HE4BS",
         "S. Layton \"homeschool blogger\"",
         "1",
         "24",
         "2",
         "1173312000",
         null,
         "I only used two maybe three tea bags and got pregnant - can not drink during pregnancy.  Not a bad taste, but I'm not a big tea fan either."
        ],
        [
         "178290",
         "178291",
         "B00073IVAQ",
         "A3TJPSWY2HE4BS",
         "S. Layton \"homeschool blogger\"",
         "1",
         "24",
         "2",
         "1173312000",
         null,
         "I only used two maybe three tea bags and got pregnant - can not drink during pregnancy.  Not a bad taste, but I'm not a big tea fan either."
        ],
        [
         "198474",
         "198475",
         "B000FVBYCW",
         "A3TJPSWY2HE4BS",
         "S. Layton \"homeschool blogger\"",
         "1",
         "24",
         "2",
         "1173312000",
         null,
         "I only used two maybe three tea bags and got pregnant - can not drink during pregnancy.  Not a bad taste, but I'm not a big tea fan either."
        ],
        [
         "212691",
         "212692",
         "B00020HHAO",
         "A3TJPSWY2HE4BS",
         "S. Layton \"homeschool blogger\"",
         "1",
         "24",
         "2",
         "1173312000",
         null,
         "I only used two maybe three tea bags and got pregnant - can not drink during pregnancy.  Not a bad taste, but I'm not a big tea fan either."
        ],
        [
         "237565",
         "237566",
         "B000ELGPAO",
         "A15AMT9T9A1309",
         "Film-Friend",
         "1",
         "1",
         "3",
         "1328572800",
         null,
         "This is a cool system only problem is that the coffee is no longer hot once it drains into your cup. If you are using it to make ice coffee though, it's great!"
        ],
        [
         "293906",
         "293907",
         "B00020HHM2",
         "A3TJPSWY2HE4BS",
         "S. Layton \"homeschool blogger\"",
         "1",
         "24",
         "2",
         "1173312000",
         null,
         "I only used two maybe three tea bags and got pregnant - can not drink during pregnancy.  Not a bad taste, but I'm not a big tea fan either."
        ],
        [
         "299495",
         "299496",
         "B00142BX68",
         "A3TJPSWY2HE4BS",
         "S. Layton \"homeschool blogger\"",
         "1",
         "24",
         "2",
         "1173312000",
         null,
         "I only used two maybe three tea bags and got pregnant - can not drink during pregnancy.  Not a bad taste, but I'm not a big tea fan either."
        ],
        [
         "300961",
         "300962",
         "B000VJYTZM",
         "A3TJPSWY2HE4BS",
         "S. Layton \"homeschool blogger\"",
         "1",
         "24",
         "2",
         "1173312000",
         null,
         "I only used two maybe three tea bags and got pregnant - can not drink during pregnancy.  Not a bad taste, but I'm not a big tea fan either."
        ],
        [
         "333556",
         "333557",
         "B00188S3PM",
         "A3TJPSWY2HE4BS",
         "S. Layton \"homeschool blogger\"",
         "1",
         "24",
         "2",
         "1173312000",
         null,
         "I only used two maybe three tea bags and got pregnant - can not drink during pregnancy.  Not a bad taste, but I'm not a big tea fan either."
        ],
        [
         "352043",
         "352044",
         "B000M0F58U",
         "A3TJPSWY2HE4BS",
         "S. Layton \"homeschool blogger\"",
         "1",
         "24",
         "2",
         "1173312000",
         null,
         "I only used two maybe three tea bags and got pregnant - can not drink during pregnancy.  Not a bad taste, but I'm not a big tea fan either."
        ],
        [
         "357215",
         "357216",
         "B0006I5M2M",
         "A3TJPSWY2HE4BS",
         "S. Layton \"homeschool blogger\"",
         "1",
         "24",
         "2",
         "1173312000",
         null,
         "I only used two maybe three tea bags and got pregnant - can not drink during pregnancy.  Not a bad taste, but I'm not a big tea fan either."
        ],
        [
         "357814",
         "357815",
         "B001GCTTRQ",
         "A3TJPSWY2HE4BS",
         "S. Layton \"homeschool blogger\"",
         "1",
         "24",
         "2",
         "1173312000",
         null,
         "I only used two maybe three tea bags and got pregnant - can not drink during pregnancy.  Not a bad taste, but I'm not a big tea fan either."
        ],
        [
         "360782",
         "360783",
         "B00020HHHC",
         "A3TJPSWY2HE4BS",
         "S. Layton \"homeschool blogger\"",
         "1",
         "24",
         "2",
         "1173312000",
         null,
         "I only used two maybe three tea bags and got pregnant - can not drink during pregnancy.  Not a bad taste, but I'm not a big tea fan either."
        ],
        [
         "379473",
         "379474",
         "B007RLRCLK",
         "A3TJPSWY2HE4BS",
         "S. Layton \"homeschool blogger\"",
         "1",
         "24",
         "2",
         "1173312000",
         null,
         "I only used two maybe three tea bags and got pregnant - can not drink during pregnancy.  Not a bad taste, but I'm not a big tea fan either."
        ],
        [
         "380558",
         "380559",
         "B00014DXCC",
         "A3TJPSWY2HE4BS",
         "S. Layton \"homeschool blogger\"",
         "1",
         "24",
         "2",
         "1173312000",
         null,
         "I only used two maybe three tea bags and got pregnant - can not drink during pregnancy.  Not a bad taste, but I'm not a big tea fan either."
        ],
        [
         "381313",
         "381314",
         "B00020HHK4",
         "A3TJPSWY2HE4BS",
         "S. Layton \"homeschool blogger\"",
         "1",
         "24",
         "2",
         "1173312000",
         null,
         "I only used two maybe three tea bags and got pregnant - can not drink during pregnancy.  Not a bad taste, but I'm not a big tea fan either."
        ],
        [
         "386283",
         "386284",
         "B00073JVFU",
         "A3TJPSWY2HE4BS",
         "S. Layton \"homeschool blogger\"",
         "1",
         "24",
         "2",
         "1173312000",
         null,
         "I only used two maybe three tea bags and got pregnant - can not drink during pregnancy.  Not a bad taste, but I'm not a big tea fan either."
        ],
        [
         "392529",
         "392530",
         "B001H9XOEW",
         "A22R17YPXEULEZ",
         "Liz Wong",
         "0",
         "0",
         "3",
         "1334534400",
         null,
         "I like the product and tried it before I puchased it. However, one of the boxes arrived have only 10 in it instead of 12."
        ],
        [
         "484367",
         "484368",
         "B00020HHGS",
         "A3TJPSWY2HE4BS",
         "S. Layton \"homeschool blogger\"",
         "1",
         "24",
         "2",
         "1173312000",
         null,
         "I only used two maybe three tea bags and got pregnant - can not drink during pregnancy.  Not a bad taste, but I'm not a big tea fan either."
        ],
        [
         "486640",
         "486641",
         "B0014AUJII",
         "A3TJPSWY2HE4BS",
         "S. Layton \"homeschool blogger\"",
         "1",
         "24",
         "2",
         "1173312000",
         null,
         "I only used two maybe three tea bags and got pregnant - can not drink during pregnancy.  Not a bad taste, but I'm not a big tea fan either."
        ],
        [
         "503260",
         "503261",
         "B00020HHE0",
         "A3TJPSWY2HE4BS",
         "S. Layton \"homeschool blogger\"",
         "1",
         "24",
         "2",
         "1173312000",
         null,
         "I only used two maybe three tea bags and got pregnant - can not drink during pregnancy.  Not a bad taste, but I'm not a big tea fan either."
        ],
        [
         "530716",
         "530717",
         "B0014ATRV8",
         "A3TJPSWY2HE4BS",
         "S. Layton \"homeschool blogger\"",
         "1",
         "24",
         "2",
         "1173312000",
         null,
         "I only used two maybe three tea bags and got pregnant - can not drink during pregnancy.  Not a bad taste, but I'm not a big tea fan either."
        ]
       ],
       "shape": {
        "columns": 10,
        "rows": 27
       }
      },
      "text/html": [
       "<div>\n",
       "<style scoped>\n",
       "    .dataframe tbody tr th:only-of-type {\n",
       "        vertical-align: middle;\n",
       "    }\n",
       "\n",
       "    .dataframe tbody tr th {\n",
       "        vertical-align: top;\n",
       "    }\n",
       "\n",
       "    .dataframe thead th {\n",
       "        text-align: right;\n",
       "    }\n",
       "</style>\n",
       "<table border=\"1\" class=\"dataframe\">\n",
       "  <thead>\n",
       "    <tr style=\"text-align: right;\">\n",
       "      <th></th>\n",
       "      <th>Id</th>\n",
       "      <th>ProductId</th>\n",
       "      <th>UserId</th>\n",
       "      <th>ProfileName</th>\n",
       "      <th>HelpfulnessNumerator</th>\n",
       "      <th>HelpfulnessDenominator</th>\n",
       "      <th>Score</th>\n",
       "      <th>Time</th>\n",
       "      <th>Summary</th>\n",
       "      <th>Text</th>\n",
       "    </tr>\n",
       "  </thead>\n",
       "  <tbody>\n",
       "    <tr>\n",
       "      <th>33958</th>\n",
       "      <td>33959</td>\n",
       "      <td>B00412W76S</td>\n",
       "      <td>A3TJPSWY2HE4BS</td>\n",
       "      <td>S. Layton \"homeschool blogger\"</td>\n",
       "      <td>1</td>\n",
       "      <td>24</td>\n",
       "      <td>2</td>\n",
       "      <td>1173312000</td>\n",
       "      <td>NaN</td>\n",
       "      <td>I only used two maybe three tea bags and got p...</td>\n",
       "    </tr>\n",
       "    <tr>\n",
       "      <th>40548</th>\n",
       "      <td>40549</td>\n",
       "      <td>B00020HHRW</td>\n",
       "      <td>A3TJPSWY2HE4BS</td>\n",
       "      <td>S. Layton \"homeschool blogger\"</td>\n",
       "      <td>1</td>\n",
       "      <td>24</td>\n",
       "      <td>2</td>\n",
       "      <td>1173312000</td>\n",
       "      <td>NaN</td>\n",
       "      <td>I only used two maybe three tea bags and got p...</td>\n",
       "    </tr>\n",
       "    <tr>\n",
       "      <th>101106</th>\n",
       "      <td>101107</td>\n",
       "      <td>B0014B0HWK</td>\n",
       "      <td>A3TJPSWY2HE4BS</td>\n",
       "      <td>S. Layton \"homeschool blogger\"</td>\n",
       "      <td>1</td>\n",
       "      <td>24</td>\n",
       "      <td>2</td>\n",
       "      <td>1173312000</td>\n",
       "      <td>NaN</td>\n",
       "      <td>I only used two maybe three tea bags and got p...</td>\n",
       "    </tr>\n",
       "    <tr>\n",
       "      <th>102979</th>\n",
       "      <td>102980</td>\n",
       "      <td>B000FVDWU4</td>\n",
       "      <td>A3TJPSWY2HE4BS</td>\n",
       "      <td>S. Layton \"homeschool blogger\"</td>\n",
       "      <td>1</td>\n",
       "      <td>24</td>\n",
       "      <td>2</td>\n",
       "      <td>1173312000</td>\n",
       "      <td>NaN</td>\n",
       "      <td>I only used two maybe three tea bags and got p...</td>\n",
       "    </tr>\n",
       "    <tr>\n",
       "      <th>117515</th>\n",
       "      <td>117516</td>\n",
       "      <td>B0016B7Z32</td>\n",
       "      <td>A3TJPSWY2HE4BS</td>\n",
       "      <td>S. Layton \"homeschool blogger\"</td>\n",
       "      <td>1</td>\n",
       "      <td>24</td>\n",
       "      <td>2</td>\n",
       "      <td>1173312000</td>\n",
       "      <td>NaN</td>\n",
       "      <td>I only used two maybe three tea bags and got p...</td>\n",
       "    </tr>\n",
       "    <tr>\n",
       "      <th>155712</th>\n",
       "      <td>155713</td>\n",
       "      <td>B0009VO58S</td>\n",
       "      <td>A3TJPSWY2HE4BS</td>\n",
       "      <td>S. Layton \"homeschool blogger\"</td>\n",
       "      <td>1</td>\n",
       "      <td>24</td>\n",
       "      <td>2</td>\n",
       "      <td>1173312000</td>\n",
       "      <td>NaN</td>\n",
       "      <td>I only used two maybe three tea bags and got p...</td>\n",
       "    </tr>\n",
       "    <tr>\n",
       "      <th>178290</th>\n",
       "      <td>178291</td>\n",
       "      <td>B00073IVAQ</td>\n",
       "      <td>A3TJPSWY2HE4BS</td>\n",
       "      <td>S. Layton \"homeschool blogger\"</td>\n",
       "      <td>1</td>\n",
       "      <td>24</td>\n",
       "      <td>2</td>\n",
       "      <td>1173312000</td>\n",
       "      <td>NaN</td>\n",
       "      <td>I only used two maybe three tea bags and got p...</td>\n",
       "    </tr>\n",
       "    <tr>\n",
       "      <th>198474</th>\n",
       "      <td>198475</td>\n",
       "      <td>B000FVBYCW</td>\n",
       "      <td>A3TJPSWY2HE4BS</td>\n",
       "      <td>S. Layton \"homeschool blogger\"</td>\n",
       "      <td>1</td>\n",
       "      <td>24</td>\n",
       "      <td>2</td>\n",
       "      <td>1173312000</td>\n",
       "      <td>NaN</td>\n",
       "      <td>I only used two maybe three tea bags and got p...</td>\n",
       "    </tr>\n",
       "    <tr>\n",
       "      <th>212691</th>\n",
       "      <td>212692</td>\n",
       "      <td>B00020HHAO</td>\n",
       "      <td>A3TJPSWY2HE4BS</td>\n",
       "      <td>S. Layton \"homeschool blogger\"</td>\n",
       "      <td>1</td>\n",
       "      <td>24</td>\n",
       "      <td>2</td>\n",
       "      <td>1173312000</td>\n",
       "      <td>NaN</td>\n",
       "      <td>I only used two maybe three tea bags and got p...</td>\n",
       "    </tr>\n",
       "    <tr>\n",
       "      <th>237565</th>\n",
       "      <td>237566</td>\n",
       "      <td>B000ELGPAO</td>\n",
       "      <td>A15AMT9T9A1309</td>\n",
       "      <td>Film-Friend</td>\n",
       "      <td>1</td>\n",
       "      <td>1</td>\n",
       "      <td>3</td>\n",
       "      <td>1328572800</td>\n",
       "      <td>NaN</td>\n",
       "      <td>This is a cool system only problem is that the...</td>\n",
       "    </tr>\n",
       "    <tr>\n",
       "      <th>293906</th>\n",
       "      <td>293907</td>\n",
       "      <td>B00020HHM2</td>\n",
       "      <td>A3TJPSWY2HE4BS</td>\n",
       "      <td>S. Layton \"homeschool blogger\"</td>\n",
       "      <td>1</td>\n",
       "      <td>24</td>\n",
       "      <td>2</td>\n",
       "      <td>1173312000</td>\n",
       "      <td>NaN</td>\n",
       "      <td>I only used two maybe three tea bags and got p...</td>\n",
       "    </tr>\n",
       "    <tr>\n",
       "      <th>299495</th>\n",
       "      <td>299496</td>\n",
       "      <td>B00142BX68</td>\n",
       "      <td>A3TJPSWY2HE4BS</td>\n",
       "      <td>S. Layton \"homeschool blogger\"</td>\n",
       "      <td>1</td>\n",
       "      <td>24</td>\n",
       "      <td>2</td>\n",
       "      <td>1173312000</td>\n",
       "      <td>NaN</td>\n",
       "      <td>I only used two maybe three tea bags and got p...</td>\n",
       "    </tr>\n",
       "    <tr>\n",
       "      <th>300961</th>\n",
       "      <td>300962</td>\n",
       "      <td>B000VJYTZM</td>\n",
       "      <td>A3TJPSWY2HE4BS</td>\n",
       "      <td>S. Layton \"homeschool blogger\"</td>\n",
       "      <td>1</td>\n",
       "      <td>24</td>\n",
       "      <td>2</td>\n",
       "      <td>1173312000</td>\n",
       "      <td>NaN</td>\n",
       "      <td>I only used two maybe three tea bags and got p...</td>\n",
       "    </tr>\n",
       "    <tr>\n",
       "      <th>333556</th>\n",
       "      <td>333557</td>\n",
       "      <td>B00188S3PM</td>\n",
       "      <td>A3TJPSWY2HE4BS</td>\n",
       "      <td>S. Layton \"homeschool blogger\"</td>\n",
       "      <td>1</td>\n",
       "      <td>24</td>\n",
       "      <td>2</td>\n",
       "      <td>1173312000</td>\n",
       "      <td>NaN</td>\n",
       "      <td>I only used two maybe three tea bags and got p...</td>\n",
       "    </tr>\n",
       "    <tr>\n",
       "      <th>352043</th>\n",
       "      <td>352044</td>\n",
       "      <td>B000M0F58U</td>\n",
       "      <td>A3TJPSWY2HE4BS</td>\n",
       "      <td>S. Layton \"homeschool blogger\"</td>\n",
       "      <td>1</td>\n",
       "      <td>24</td>\n",
       "      <td>2</td>\n",
       "      <td>1173312000</td>\n",
       "      <td>NaN</td>\n",
       "      <td>I only used two maybe three tea bags and got p...</td>\n",
       "    </tr>\n",
       "    <tr>\n",
       "      <th>357215</th>\n",
       "      <td>357216</td>\n",
       "      <td>B0006I5M2M</td>\n",
       "      <td>A3TJPSWY2HE4BS</td>\n",
       "      <td>S. Layton \"homeschool blogger\"</td>\n",
       "      <td>1</td>\n",
       "      <td>24</td>\n",
       "      <td>2</td>\n",
       "      <td>1173312000</td>\n",
       "      <td>NaN</td>\n",
       "      <td>I only used two maybe three tea bags and got p...</td>\n",
       "    </tr>\n",
       "    <tr>\n",
       "      <th>357814</th>\n",
       "      <td>357815</td>\n",
       "      <td>B001GCTTRQ</td>\n",
       "      <td>A3TJPSWY2HE4BS</td>\n",
       "      <td>S. Layton \"homeschool blogger\"</td>\n",
       "      <td>1</td>\n",
       "      <td>24</td>\n",
       "      <td>2</td>\n",
       "      <td>1173312000</td>\n",
       "      <td>NaN</td>\n",
       "      <td>I only used two maybe three tea bags and got p...</td>\n",
       "    </tr>\n",
       "    <tr>\n",
       "      <th>360782</th>\n",
       "      <td>360783</td>\n",
       "      <td>B00020HHHC</td>\n",
       "      <td>A3TJPSWY2HE4BS</td>\n",
       "      <td>S. Layton \"homeschool blogger\"</td>\n",
       "      <td>1</td>\n",
       "      <td>24</td>\n",
       "      <td>2</td>\n",
       "      <td>1173312000</td>\n",
       "      <td>NaN</td>\n",
       "      <td>I only used two maybe three tea bags and got p...</td>\n",
       "    </tr>\n",
       "    <tr>\n",
       "      <th>379473</th>\n",
       "      <td>379474</td>\n",
       "      <td>B007RLRCLK</td>\n",
       "      <td>A3TJPSWY2HE4BS</td>\n",
       "      <td>S. Layton \"homeschool blogger\"</td>\n",
       "      <td>1</td>\n",
       "      <td>24</td>\n",
       "      <td>2</td>\n",
       "      <td>1173312000</td>\n",
       "      <td>NaN</td>\n",
       "      <td>I only used two maybe three tea bags and got p...</td>\n",
       "    </tr>\n",
       "    <tr>\n",
       "      <th>380558</th>\n",
       "      <td>380559</td>\n",
       "      <td>B00014DXCC</td>\n",
       "      <td>A3TJPSWY2HE4BS</td>\n",
       "      <td>S. Layton \"homeschool blogger\"</td>\n",
       "      <td>1</td>\n",
       "      <td>24</td>\n",
       "      <td>2</td>\n",
       "      <td>1173312000</td>\n",
       "      <td>NaN</td>\n",
       "      <td>I only used two maybe three tea bags and got p...</td>\n",
       "    </tr>\n",
       "    <tr>\n",
       "      <th>381313</th>\n",
       "      <td>381314</td>\n",
       "      <td>B00020HHK4</td>\n",
       "      <td>A3TJPSWY2HE4BS</td>\n",
       "      <td>S. Layton \"homeschool blogger\"</td>\n",
       "      <td>1</td>\n",
       "      <td>24</td>\n",
       "      <td>2</td>\n",
       "      <td>1173312000</td>\n",
       "      <td>NaN</td>\n",
       "      <td>I only used two maybe three tea bags and got p...</td>\n",
       "    </tr>\n",
       "    <tr>\n",
       "      <th>386283</th>\n",
       "      <td>386284</td>\n",
       "      <td>B00073JVFU</td>\n",
       "      <td>A3TJPSWY2HE4BS</td>\n",
       "      <td>S. Layton \"homeschool blogger\"</td>\n",
       "      <td>1</td>\n",
       "      <td>24</td>\n",
       "      <td>2</td>\n",
       "      <td>1173312000</td>\n",
       "      <td>NaN</td>\n",
       "      <td>I only used two maybe three tea bags and got p...</td>\n",
       "    </tr>\n",
       "    <tr>\n",
       "      <th>392529</th>\n",
       "      <td>392530</td>\n",
       "      <td>B001H9XOEW</td>\n",
       "      <td>A22R17YPXEULEZ</td>\n",
       "      <td>Liz Wong</td>\n",
       "      <td>0</td>\n",
       "      <td>0</td>\n",
       "      <td>3</td>\n",
       "      <td>1334534400</td>\n",
       "      <td>NaN</td>\n",
       "      <td>I like the product and tried it before I pucha...</td>\n",
       "    </tr>\n",
       "    <tr>\n",
       "      <th>484367</th>\n",
       "      <td>484368</td>\n",
       "      <td>B00020HHGS</td>\n",
       "      <td>A3TJPSWY2HE4BS</td>\n",
       "      <td>S. Layton \"homeschool blogger\"</td>\n",
       "      <td>1</td>\n",
       "      <td>24</td>\n",
       "      <td>2</td>\n",
       "      <td>1173312000</td>\n",
       "      <td>NaN</td>\n",
       "      <td>I only used two maybe three tea bags and got p...</td>\n",
       "    </tr>\n",
       "    <tr>\n",
       "      <th>486640</th>\n",
       "      <td>486641</td>\n",
       "      <td>B0014AUJII</td>\n",
       "      <td>A3TJPSWY2HE4BS</td>\n",
       "      <td>S. Layton \"homeschool blogger\"</td>\n",
       "      <td>1</td>\n",
       "      <td>24</td>\n",
       "      <td>2</td>\n",
       "      <td>1173312000</td>\n",
       "      <td>NaN</td>\n",
       "      <td>I only used two maybe three tea bags and got p...</td>\n",
       "    </tr>\n",
       "    <tr>\n",
       "      <th>503260</th>\n",
       "      <td>503261</td>\n",
       "      <td>B00020HHE0</td>\n",
       "      <td>A3TJPSWY2HE4BS</td>\n",
       "      <td>S. Layton \"homeschool blogger\"</td>\n",
       "      <td>1</td>\n",
       "      <td>24</td>\n",
       "      <td>2</td>\n",
       "      <td>1173312000</td>\n",
       "      <td>NaN</td>\n",
       "      <td>I only used two maybe three tea bags and got p...</td>\n",
       "    </tr>\n",
       "    <tr>\n",
       "      <th>530716</th>\n",
       "      <td>530717</td>\n",
       "      <td>B0014ATRV8</td>\n",
       "      <td>A3TJPSWY2HE4BS</td>\n",
       "      <td>S. Layton \"homeschool blogger\"</td>\n",
       "      <td>1</td>\n",
       "      <td>24</td>\n",
       "      <td>2</td>\n",
       "      <td>1173312000</td>\n",
       "      <td>NaN</td>\n",
       "      <td>I only used two maybe three tea bags and got p...</td>\n",
       "    </tr>\n",
       "  </tbody>\n",
       "</table>\n",
       "</div>"
      ],
      "text/plain": [
       "            Id   ProductId          UserId                     ProfileName  \\\n",
       "33958    33959  B00412W76S  A3TJPSWY2HE4BS  S. Layton \"homeschool blogger\"   \n",
       "40548    40549  B00020HHRW  A3TJPSWY2HE4BS  S. Layton \"homeschool blogger\"   \n",
       "101106  101107  B0014B0HWK  A3TJPSWY2HE4BS  S. Layton \"homeschool blogger\"   \n",
       "102979  102980  B000FVDWU4  A3TJPSWY2HE4BS  S. Layton \"homeschool blogger\"   \n",
       "117515  117516  B0016B7Z32  A3TJPSWY2HE4BS  S. Layton \"homeschool blogger\"   \n",
       "155712  155713  B0009VO58S  A3TJPSWY2HE4BS  S. Layton \"homeschool blogger\"   \n",
       "178290  178291  B00073IVAQ  A3TJPSWY2HE4BS  S. Layton \"homeschool blogger\"   \n",
       "198474  198475  B000FVBYCW  A3TJPSWY2HE4BS  S. Layton \"homeschool blogger\"   \n",
       "212691  212692  B00020HHAO  A3TJPSWY2HE4BS  S. Layton \"homeschool blogger\"   \n",
       "237565  237566  B000ELGPAO  A15AMT9T9A1309                     Film-Friend   \n",
       "293906  293907  B00020HHM2  A3TJPSWY2HE4BS  S. Layton \"homeschool blogger\"   \n",
       "299495  299496  B00142BX68  A3TJPSWY2HE4BS  S. Layton \"homeschool blogger\"   \n",
       "300961  300962  B000VJYTZM  A3TJPSWY2HE4BS  S. Layton \"homeschool blogger\"   \n",
       "333556  333557  B00188S3PM  A3TJPSWY2HE4BS  S. Layton \"homeschool blogger\"   \n",
       "352043  352044  B000M0F58U  A3TJPSWY2HE4BS  S. Layton \"homeschool blogger\"   \n",
       "357215  357216  B0006I5M2M  A3TJPSWY2HE4BS  S. Layton \"homeschool blogger\"   \n",
       "357814  357815  B001GCTTRQ  A3TJPSWY2HE4BS  S. Layton \"homeschool blogger\"   \n",
       "360782  360783  B00020HHHC  A3TJPSWY2HE4BS  S. Layton \"homeschool blogger\"   \n",
       "379473  379474  B007RLRCLK  A3TJPSWY2HE4BS  S. Layton \"homeschool blogger\"   \n",
       "380558  380559  B00014DXCC  A3TJPSWY2HE4BS  S. Layton \"homeschool blogger\"   \n",
       "381313  381314  B00020HHK4  A3TJPSWY2HE4BS  S. Layton \"homeschool blogger\"   \n",
       "386283  386284  B00073JVFU  A3TJPSWY2HE4BS  S. Layton \"homeschool blogger\"   \n",
       "392529  392530  B001H9XOEW  A22R17YPXEULEZ                        Liz Wong   \n",
       "484367  484368  B00020HHGS  A3TJPSWY2HE4BS  S. Layton \"homeschool blogger\"   \n",
       "486640  486641  B0014AUJII  A3TJPSWY2HE4BS  S. Layton \"homeschool blogger\"   \n",
       "503260  503261  B00020HHE0  A3TJPSWY2HE4BS  S. Layton \"homeschool blogger\"   \n",
       "530716  530717  B0014ATRV8  A3TJPSWY2HE4BS  S. Layton \"homeschool blogger\"   \n",
       "\n",
       "        HelpfulnessNumerator  HelpfulnessDenominator  Score        Time  \\\n",
       "33958                      1                      24      2  1173312000   \n",
       "40548                      1                      24      2  1173312000   \n",
       "101106                     1                      24      2  1173312000   \n",
       "102979                     1                      24      2  1173312000   \n",
       "117515                     1                      24      2  1173312000   \n",
       "155712                     1                      24      2  1173312000   \n",
       "178290                     1                      24      2  1173312000   \n",
       "198474                     1                      24      2  1173312000   \n",
       "212691                     1                      24      2  1173312000   \n",
       "237565                     1                       1      3  1328572800   \n",
       "293906                     1                      24      2  1173312000   \n",
       "299495                     1                      24      2  1173312000   \n",
       "300961                     1                      24      2  1173312000   \n",
       "333556                     1                      24      2  1173312000   \n",
       "352043                     1                      24      2  1173312000   \n",
       "357215                     1                      24      2  1173312000   \n",
       "357814                     1                      24      2  1173312000   \n",
       "360782                     1                      24      2  1173312000   \n",
       "379473                     1                      24      2  1173312000   \n",
       "380558                     1                      24      2  1173312000   \n",
       "381313                     1                      24      2  1173312000   \n",
       "386283                     1                      24      2  1173312000   \n",
       "392529                     0                       0      3  1334534400   \n",
       "484367                     1                      24      2  1173312000   \n",
       "486640                     1                      24      2  1173312000   \n",
       "503260                     1                      24      2  1173312000   \n",
       "530716                     1                      24      2  1173312000   \n",
       "\n",
       "       Summary                                               Text  \n",
       "33958      NaN  I only used two maybe three tea bags and got p...  \n",
       "40548      NaN  I only used two maybe three tea bags and got p...  \n",
       "101106     NaN  I only used two maybe three tea bags and got p...  \n",
       "102979     NaN  I only used two maybe three tea bags and got p...  \n",
       "117515     NaN  I only used two maybe three tea bags and got p...  \n",
       "155712     NaN  I only used two maybe three tea bags and got p...  \n",
       "178290     NaN  I only used two maybe three tea bags and got p...  \n",
       "198474     NaN  I only used two maybe three tea bags and got p...  \n",
       "212691     NaN  I only used two maybe three tea bags and got p...  \n",
       "237565     NaN  This is a cool system only problem is that the...  \n",
       "293906     NaN  I only used two maybe three tea bags and got p...  \n",
       "299495     NaN  I only used two maybe three tea bags and got p...  \n",
       "300961     NaN  I only used two maybe three tea bags and got p...  \n",
       "333556     NaN  I only used two maybe three tea bags and got p...  \n",
       "352043     NaN  I only used two maybe three tea bags and got p...  \n",
       "357215     NaN  I only used two maybe three tea bags and got p...  \n",
       "357814     NaN  I only used two maybe three tea bags and got p...  \n",
       "360782     NaN  I only used two maybe three tea bags and got p...  \n",
       "379473     NaN  I only used two maybe three tea bags and got p...  \n",
       "380558     NaN  I only used two maybe three tea bags and got p...  \n",
       "381313     NaN  I only used two maybe three tea bags and got p...  \n",
       "386283     NaN  I only used two maybe three tea bags and got p...  \n",
       "392529     NaN  I like the product and tried it before I pucha...  \n",
       "484367     NaN  I only used two maybe three tea bags and got p...  \n",
       "486640     NaN  I only used two maybe three tea bags and got p...  \n",
       "503260     NaN  I only used two maybe three tea bags and got p...  \n",
       "530716     NaN  I only used two maybe three tea bags and got p...  "
      ]
     },
     "execution_count": 45,
     "metadata": {},
     "output_type": "execute_result"
    }
   ],
   "source": [
    "# Summary missing values\n",
    "df[df[\"Summary\"].isnull()]"
   ]
  },
  {
   "cell_type": "markdown",
   "metadata": {},
   "source": [
    "**Inference**: Based on the dataframe above, we can see that everything except `ProductId` is the same. \n",
    "\n",
    "- This might be due to one product (like a protein bar) can have multiple variants (flavors, sizes).\n",
    "\n",
    "- With each variant is given a different `ProductId`. \n",
    "\n",
    "- So, if a user writes a review for one variant, Amazon sometimes duplicates that reviews across all similar variants. "
   ]
  },
  {
   "cell_type": "markdown",
   "metadata": {},
   "source": [
    "Review Scores Distribution"
   ]
  },
  {
   "cell_type": "code",
   "execution_count": 71,
   "metadata": {},
   "outputs": [
    {
     "data": {
      "image/png": "[encoded data removed]",
      "text/plain": [
       "<Figure size 1000x600 with 1 Axes>"
      ]
     },
     "metadata": {},
     "output_type": "display_data"
    }
   ],
   "source": [
    "# Plot the distribution of review scores\n",
    "sns.set_theme(style=\"whitegrid\")\n",
    "plt.figure(figsize=(10, 6))\n",
    "ax = sns.countplot(data=df, x=\"Score\")\n",
    "\n",
    "# Data label\n",
    "for container in ax.containers:\n",
    "    ax.bar_label(container)\n",
    "\n",
    "plt.title(\"Distribution of Review Scores\")\n",
    "plt.xlabel(\"Review Score\")\n",
    "plt.ylabel(\"Count\")\n",
    "plt.show()"
   ]
  },
  {
   "cell_type": "code",
   "execution_count": null,
   "metadata": {},
   "outputs": [
    {
     "data": {
      "image/png": "[encoded data removed]",
      "text/plain": [
       "<Figure size 600x600 with 1 Axes>"
      ]
     },
     "metadata": {},
     "output_type": "display_data"
    }
   ],
   "source": [
    "# Count score frequencies\n",
    "sns.set_theme(style=\"whitegrid\")\n",
    "score_counts = df['Score'].value_counts().sort_index()\n",
    "\n",
    "# Define labels and sizes\n",
    "labels = [f'{score}-Star' for score in score_counts.index]\n",
    "sizes = score_counts.values.astype(float)  \n",
    "\n",
    "# Plot\n",
    "plt.figure(figsize=(6, 6))\n",
    "plt.pie(sizes, labels=labels, autopct=\"%1.1f%%\", startangle=140)\n",
    "plt.title(\"Distribution of Review Scores\")\n",
    "plt.axis(\"equal\")  \n",
    "plt.show()"
   ]
  },
  {
   "cell_type": "markdown",
   "metadata": {},
   "source": [
    "**Inference**: According the distribution of the rating score above, we have found that:\n",
    "\n",
    "- **63.9%** of the rating score is  5 star, indicating that most of the products got good review.\n",
    "\n",
    "- **14.2%** of the rating score is 4 star, following by a 1 star with **9.2%**"
   ]
  },
  {
   "cell_type": "markdown",
   "metadata": {},
   "source": [
    "### **Data Cleaning**"
   ]
  },
  {
   "cell_type": "markdown",
   "metadata": {},
   "source": [
    "Check and Delete Duplicate Reviews"
   ]
  },
  {
   "cell_type": "code",
   "execution_count": 48,
   "metadata": {},
   "outputs": [
    {
     "name": "stdout",
     "output_type": "stream",
     "text": [
      "+-----+------------------------+\n",
      "|     | Duplicated Reviews (%) |\n",
      "+-----+------------------------+\n",
      "| Yes |         30.71          |\n",
      "|  No |         69.29          |\n",
      "+-----+------------------------+\n"
     ]
    }
   ],
   "source": [
    "# Find the duplate reviews in specific subset\n",
    "duplicated_reviews = df.duplicated(subset=[\"UserId\", \"Time\", \"Text\"], keep=\"first\")\n",
    "count_duplicated_reviews = np.round(duplicated_reviews.value_counts() / len(df) * 100, 2)\n",
    "\n",
    "# Create a table to display the results\n",
    "table = PrettyTable()\n",
    "table.field_names = [\"\", \"Duplicated Reviews (%)\"]\n",
    "table.add_row([\"Yes\", count_duplicated_reviews[True]])\n",
    "table.add_row([\"No\", count_duplicated_reviews[False]])\n",
    "print(table)\n"
   ]
  },
  {
   "cell_type": "markdown",
   "metadata": {},
   "source": [
    "**Inference**: We have found that nearly 31% of total reviews are duplicated across product variants. \n",
    "\n",
    "- They are the reviews that have the same user with the same text. \n",
    "\n",
    "- If we keep these duplications, it will introduce bias into the dataset as there is no meaningful pattern here."
   ]
  },
  {
   "cell_type": "code",
   "execution_count": 49,
   "metadata": {},
   "outputs": [
    {
     "name": "stdout",
     "output_type": "stream",
     "text": [
      "Number of data points after removing duplicates: 393892\n"
     ]
    }
   ],
   "source": [
    "# Remove the duplicated rows \n",
    "df = df[~duplicated_reviews]\n",
    "\n",
    "# Check the shape of the dataset after removing duplicates\n",
    "print(f\"Number of data points after removing duplicates: {df.shape[0]}\")"
   ]
  },
  {
   "cell_type": "markdown",
   "metadata": {},
   "source": [
    "Check 3 Rating Score"
   ]
  },
  {
   "cell_type": "code",
   "execution_count": 50,
   "metadata": {},
   "outputs": [
    {
     "data": {
      "application/vnd.microsoft.datawrangler.viewer.v0+json": {
       "columns": [
        {
         "name": "index",
         "rawType": "int64",
         "type": "integer"
        },
        {
         "name": "Text",
         "rawType": "object",
         "type": "string"
        }
       ],
       "ref": "c938beb2-5262-473b-8e7f-8716f39d9887",
       "rows": [
        [
         "45",
         "This seems a little more wholesome than some of the supermarket brands, but it is somewhat mushy and doesn't have quite as much flavor either.  It didn't pass muster with my kids, so I probably won't buy it again."
        ],
        [
         "47",
         "The flavors are good.  However, I do not see any differce between this and Oaker Oats brand - they are both mushy."
        ],
        [
         "49",
         "This is the same stuff you can buy at the big box stores.  There is nothing healthy about it.  It is just carbs and sugars.  Save your money and get something that at least has some taste."
        ],
        [
         "53",
         "we're used to spicy foods down here in south texas and these are not at all spicy.  doubt very much habanero is used at all.  could take it up a notch or two."
        ],
        [
         "60",
         "Watch your prices with this.  While the assortment was good, and I did get this on a gold box purchase, the price for this was<br />$3-4 less at Target."
        ],
        [
         "68",
         "If you're impulsive like me, then $6 is ok. Don't get me wrong, the quality of these babies is very good and I have no complaints. But in retrospect, the price is a little ridiculous (esp. when you add on the shipping)."
        ],
        [
         "78",
         "The taste was great, but the berries had melted.  May order again in winter. If you order in cold weather you should enjoy flavor."
        ],
        [
         "83",
         "While my dogs like all of the flavors that we have tried of this dog food, for some reason their itching increased when I tried the lamb and rice. I have some very itchy dogs and am giving them a limited ingredient dog food to try to help. The duck and sweet potato cut down on the itching significantly, but when we tried lamb and rice they started itching more once again. I like Natural Balance for the quality ingredients."
        ],
        [
         "84",
         "Awesome dog food. However, when given to my \"Boston\", who has severe reactions to some food ingredients; his itching increased to violent jumping out of bed at night, scratching. As soon as I changed to a different formula, the scratching stopped. So glad Natural Balance has other choices. I guess you have to try each, until you find what's best for your pet."
        ],
        [
         "106",
         "not what I was expecting in terms of the company's reputation for excellent home delivery products"
        ]
       ],
       "shape": {
        "columns": 1,
        "rows": 10
       }
      },
      "text/plain": [
       "45     This seems a little more wholesome than some o...\n",
       "47     The flavors are good.  However, I do not see a...\n",
       "49     This is the same stuff you can buy at the big ...\n",
       "53     we're used to spicy foods down here in south t...\n",
       "60     Watch your prices with this.  While the assort...\n",
       "68     If you're impulsive like me, then $6 is ok. Do...\n",
       "78     The taste was great, but the berries had melte...\n",
       "83     While my dogs like all of the flavors that we ...\n",
       "84     Awesome dog food. However, when given to my \"B...\n",
       "106    not what I was expecting in terms of the compa...\n",
       "Name: Text, dtype: object"
      ]
     },
     "execution_count": 50,
     "metadata": {},
     "output_type": "execute_result"
    }
   ],
   "source": [
    "# Top 10 rows with 3 star rating\n",
    "df[df[\"Score\"]==3][\"Text\"].head(10)"
   ]
  },
  {
   "cell_type": "markdown",
   "metadata": {},
   "source": [
    "**Inference**: Through the text reviews above, we can see that we have a mix of negative reviews as well as neutral reviews.\n",
    "\n",
    "- We cannot mark all the reviews with 3 star to negatives since they also contain neutral reviews. \n",
    "\n",
    "- However, we can choose to do Multi-class Classification with class Positive (4,5), Neutral (3), and Negative (1,2).\n",
    "\n",
    "- But since some 3 star also contains negative reviews, we are going to focus on Binary Classification for now, which we only have 2 classes Postive and Negative.\n",
    "\n",
    "- We are going to drop all the rows with 3 star rating."
   ]
  },
  {
   "cell_type": "code",
   "execution_count": 51,
   "metadata": {},
   "outputs": [],
   "source": [
    "# Exclue 3 star rating reviews\n",
    "df = df[df[\"Score\"]!=3]"
   ]
  },
  {
   "cell_type": "code",
   "execution_count": 52,
   "metadata": {},
   "outputs": [
    {
     "name": "stdout",
     "output_type": "stream",
     "text": [
      "Number of data points after removing 3-star reviews: 364124\n"
     ]
    }
   ],
   "source": [
    "# Check the shape after removal\n",
    "print(f\"Number of data points after removing 3-star reviews: {df.shape[0]}\")"
   ]
  },
  {
   "cell_type": "markdown",
   "metadata": {},
   "source": [
    "Check Inconsistent Reviews"
   ]
  },
  {
   "cell_type": "code",
   "execution_count": 53,
   "metadata": {},
   "outputs": [
    {
     "data": {
      "application/vnd.microsoft.datawrangler.viewer.v0+json": {
       "columns": [
        {
         "name": "index",
         "rawType": "int64",
         "type": "integer"
        },
        {
         "name": "Id",
         "rawType": "int64",
         "type": "integer"
        },
        {
         "name": "ProductId",
         "rawType": "object",
         "type": "string"
        },
        {
         "name": "UserId",
         "rawType": "object",
         "type": "string"
        },
        {
         "name": "ProfileName",
         "rawType": "object",
         "type": "string"
        },
        {
         "name": "HelpfulnessNumerator",
         "rawType": "int64",
         "type": "integer"
        },
        {
         "name": "HelpfulnessDenominator",
         "rawType": "int64",
         "type": "integer"
        },
        {
         "name": "Score",
         "rawType": "int64",
         "type": "integer"
        },
        {
         "name": "Time",
         "rawType": "int64",
         "type": "integer"
        },
        {
         "name": "Summary",
         "rawType": "object",
         "type": "string"
        },
        {
         "name": "Text",
         "rawType": "object",
         "type": "string"
        }
       ],
       "ref": "6c8a258c-c7f0-4e27-9ec6-1e280884d4df",
       "rows": [
        [
         "44736",
         "44737",
         "B001EQ55RW",
         "A2V0I904FH7ABY",
         "Ram",
         "3",
         "2",
         "4",
         "1212883200",
         "Pure cocoa taste with crunchy almonds inside",
         "It was almost a 'love at first bite' - the perfectly roasted almond with a nice thin layer of pure flavorful cocoa on the top.<br /><br />You can smell the cocoa as soon as you open the canister - making you want to take a bite.<br /><br />You may or may not like the taste of this cocoa roasted almonds depending on your likingness for cocoa.  We are so much used to the taste of chocolate (which is actually cocoa + many other ingredients like milk ...) - that you might have never really tasted really cocoa.<br /><br />Tasting this item it like tasting and enjoying flavorful pure raw cocoa with crunchy almonds in the center.  Get yourself a box and see for yourself what real cocoa + almonds is !<br /><br />Where this product loses a star is in its packaging - the external sleeve is kind of comes in one piece, so if you try to remove the lid, the external sleeve kind of tends to come off fully - so careful when you are removing the external sleeve for the canister."
        ],
        [
         "64421",
         "64422",
         "B000MIDROQ",
         "A161DK06JJMCYF",
         "J. E. Stephens \"Jeanne\"",
         "3",
         "1",
         "5",
         "1224892800",
         "Bought This for My Son at College",
         "My son loves spaghetti so I didn't hesitate ordering this for him. He says they are great. I have tried them myself and they are delicious. Just open and pop them in the microwave. It is very easy. The best thing about ordering from Amazon grocery is that they deliver to your door. If you have a loved one that lives far away and may have limited transportation this is the answer. Just order what you want them to have and Amazon takes care of the rest."
        ]
       ],
       "shape": {
        "columns": 10,
        "rows": 2
       }
      },
      "text/html": [
       "<div>\n",
       "<style scoped>\n",
       "    .dataframe tbody tr th:only-of-type {\n",
       "        vertical-align: middle;\n",
       "    }\n",
       "\n",
       "    .dataframe tbody tr th {\n",
       "        vertical-align: top;\n",
       "    }\n",
       "\n",
       "    .dataframe thead th {\n",
       "        text-align: right;\n",
       "    }\n",
       "</style>\n",
       "<table border=\"1\" class=\"dataframe\">\n",
       "  <thead>\n",
       "    <tr style=\"text-align: right;\">\n",
       "      <th></th>\n",
       "      <th>Id</th>\n",
       "      <th>ProductId</th>\n",
       "      <th>UserId</th>\n",
       "      <th>ProfileName</th>\n",
       "      <th>HelpfulnessNumerator</th>\n",
       "      <th>HelpfulnessDenominator</th>\n",
       "      <th>Score</th>\n",
       "      <th>Time</th>\n",
       "      <th>Summary</th>\n",
       "      <th>Text</th>\n",
       "    </tr>\n",
       "  </thead>\n",
       "  <tbody>\n",
       "    <tr>\n",
       "      <th>44736</th>\n",
       "      <td>44737</td>\n",
       "      <td>B001EQ55RW</td>\n",
       "      <td>A2V0I904FH7ABY</td>\n",
       "      <td>Ram</td>\n",
       "      <td>3</td>\n",
       "      <td>2</td>\n",
       "      <td>4</td>\n",
       "      <td>1212883200</td>\n",
       "      <td>Pure cocoa taste with crunchy almonds inside</td>\n",
       "      <td>It was almost a 'love at first bite' - the per...</td>\n",
       "    </tr>\n",
       "    <tr>\n",
       "      <th>64421</th>\n",
       "      <td>64422</td>\n",
       "      <td>B000MIDROQ</td>\n",
       "      <td>A161DK06JJMCYF</td>\n",
       "      <td>J. E. Stephens \"Jeanne\"</td>\n",
       "      <td>3</td>\n",
       "      <td>1</td>\n",
       "      <td>5</td>\n",
       "      <td>1224892800</td>\n",
       "      <td>Bought This for My Son at College</td>\n",
       "      <td>My son loves spaghetti so I didn't hesitate or...</td>\n",
       "    </tr>\n",
       "  </tbody>\n",
       "</table>\n",
       "</div>"
      ],
      "text/plain": [
       "          Id   ProductId          UserId              ProfileName  \\\n",
       "44736  44737  B001EQ55RW  A2V0I904FH7ABY                      Ram   \n",
       "64421  64422  B000MIDROQ  A161DK06JJMCYF  J. E. Stephens \"Jeanne\"   \n",
       "\n",
       "       HelpfulnessNumerator  HelpfulnessDenominator  Score        Time  \\\n",
       "44736                     3                       2      4  1212883200   \n",
       "64421                     3                       1      5  1224892800   \n",
       "\n",
       "                                            Summary  \\\n",
       "44736  Pure cocoa taste with crunchy almonds inside   \n",
       "64421             Bought This for My Son at College   \n",
       "\n",
       "                                                    Text  \n",
       "44736  It was almost a 'love at first bite' - the per...  \n",
       "64421  My son loves spaghetti so I didn't hesitate or...  "
      ]
     },
     "execution_count": 53,
     "metadata": {},
     "output_type": "execute_result"
    }
   ],
   "source": [
    "# Helpfulness numerator values should not be higher than denominator\n",
    "df[df[\"HelpfulnessNumerator\"] > df[\"HelpfulnessDenominator\"]]"
   ]
  },
  {
   "cell_type": "markdown",
   "metadata": {},
   "source": [
    "**Inference**: We can see that there are two reviews with the total number of reviews lower than the total number of reviews found helpful. \n",
    "\n",
    "- This means that we are going to drop these two as they are logically error."
   ]
  },
  {
   "cell_type": "code",
   "execution_count": 54,
   "metadata": {},
   "outputs": [],
   "source": [
    "# Remove rows where HelpfulnessNumerator is greater than HelpfulnessDenominator\n",
    "df = df[df[\"HelpfulnessNumerator\"] <= df[\"HelpfulnessDenominator\"]]"
   ]
  },
  {
   "cell_type": "markdown",
   "metadata": {},
   "source": [
    "### **Feature Engineering**"
   ]
  },
  {
   "cell_type": "code",
   "execution_count": 55,
   "metadata": {},
   "outputs": [
    {
     "data": {
      "application/vnd.microsoft.datawrangler.viewer.v0+json": {
       "columns": [
        {
         "name": "index",
         "rawType": "int64",
         "type": "integer"
        },
        {
         "name": "Id",
         "rawType": "int64",
         "type": "integer"
        },
        {
         "name": "ProductId",
         "rawType": "object",
         "type": "string"
        },
        {
         "name": "UserId",
         "rawType": "object",
         "type": "string"
        },
        {
         "name": "ProfileName",
         "rawType": "object",
         "type": "string"
        },
        {
         "name": "HelpfulnessNumerator",
         "rawType": "int64",
         "type": "integer"
        },
        {
         "name": "HelpfulnessDenominator",
         "rawType": "int64",
         "type": "integer"
        },
        {
         "name": "Score",
         "rawType": "int64",
         "type": "integer"
        },
        {
         "name": "Time",
         "rawType": "int64",
         "type": "integer"
        },
        {
         "name": "Summary",
         "rawType": "object",
         "type": "string"
        },
        {
         "name": "Text",
         "rawType": "object",
         "type": "string"
        }
       ],
       "ref": "89d2d318-2580-47e3-834e-126d6a36c7d8",
       "rows": [
        [
         "0",
         "1",
         "B001E4KFG0",
         "A3SGXH7AUHU8GW",
         "delmartian",
         "1",
         "1",
         "5",
         "1303862400",
         "Good Quality Dog Food",
         "I have bought several of the Vitality canned dog food products and have found them all to be of good quality. The product looks more like a stew than a processed meat and it smells better. My Labrador is finicky and she appreciates this product better than  most."
        ],
        [
         "1",
         "2",
         "B00813GRG4",
         "A1D87F6ZCVE5NK",
         "dll pa",
         "0",
         "0",
         "1",
         "1346976000",
         "Not as Advertised",
         "Product arrived labeled as Jumbo Salted Peanuts...the peanuts were actually small sized unsalted. Not sure if this was an error or if the vendor intended to represent the product as \"Jumbo\"."
        ],
        [
         "2",
         "3",
         "B000LQOCH0",
         "ABXLMWJIXXAIN",
         "Natalia Corres \"Natalia Corres\"",
         "1",
         "1",
         "4",
         "1219017600",
         "\"Delight\" says it all",
         "This is a confection that has been around a few centuries.  It is a light, pillowy citrus gelatin with nuts - in this case Filberts. And it is cut into tiny squares and then liberally coated with powdered sugar.  And it is a tiny mouthful of heaven.  Not too chewy, and very flavorful.  I highly recommend this yummy treat.  If you are familiar with the story of C.S. Lewis' \"The Lion, The Witch, and The Wardrobe\" - this is the treat that seduces Edmund into selling out his Brother and Sisters to the Witch."
        ],
        [
         "3",
         "4",
         "B000UA0QIQ",
         "A395BORC6FGVXV",
         "Karl",
         "3",
         "3",
         "2",
         "1307923200",
         "Cough Medicine",
         "If you are looking for the secret ingredient in Robitussin I believe I have found it.  I got this in addition to the Root Beer Extract I ordered (which was good) and made some cherry soda.  The flavor is very medicinal."
        ],
        [
         "4",
         "5",
         "B006K2ZZ7K",
         "A1UQRSCLF8GW1T",
         "Michael D. Bigham \"M. Wassir\"",
         "0",
         "0",
         "5",
         "1350777600",
         "Great taffy",
         "Great taffy at a great price.  There was a wide assortment of yummy taffy.  Delivery was very quick.  If your a taffy lover, this is a deal."
        ]
       ],
       "shape": {
        "columns": 10,
        "rows": 5
       }
      },
      "text/html": [
       "<div>\n",
       "<style scoped>\n",
       "    .dataframe tbody tr th:only-of-type {\n",
       "        vertical-align: middle;\n",
       "    }\n",
       "\n",
       "    .dataframe tbody tr th {\n",
       "        vertical-align: top;\n",
       "    }\n",
       "\n",
       "    .dataframe thead th {\n",
       "        text-align: right;\n",
       "    }\n",
       "</style>\n",
       "<table border=\"1\" class=\"dataframe\">\n",
       "  <thead>\n",
       "    <tr style=\"text-align: right;\">\n",
       "      <th></th>\n",
       "      <th>Id</th>\n",
       "      <th>ProductId</th>\n",
       "      <th>UserId</th>\n",
       "      <th>ProfileName</th>\n",
       "      <th>HelpfulnessNumerator</th>\n",
       "      <th>HelpfulnessDenominator</th>\n",
       "      <th>Score</th>\n",
       "      <th>Time</th>\n",
       "      <th>Summary</th>\n",
       "      <th>Text</th>\n",
       "    </tr>\n",
       "  </thead>\n",
       "  <tbody>\n",
       "    <tr>\n",
       "      <th>0</th>\n",
       "      <td>1</td>\n",
       "      <td>B001E4KFG0</td>\n",
       "      <td>A3SGXH7AUHU8GW</td>\n",
       "      <td>delmartian</td>\n",
       "      <td>1</td>\n",
       "      <td>1</td>\n",
       "      <td>5</td>\n",
       "      <td>1303862400</td>\n",
       "      <td>Good Quality Dog Food</td>\n",
       "      <td>I have bought several of the Vitality canned d...</td>\n",
       "    </tr>\n",
       "    <tr>\n",
       "      <th>1</th>\n",
       "      <td>2</td>\n",
       "      <td>B00813GRG4</td>\n",
       "      <td>A1D87F6ZCVE5NK</td>\n",
       "      <td>dll pa</td>\n",
       "      <td>0</td>\n",
       "      <td>0</td>\n",
       "      <td>1</td>\n",
       "      <td>1346976000</td>\n",
       "      <td>Not as Advertised</td>\n",
       "      <td>Product arrived labeled as Jumbo Salted Peanut...</td>\n",
       "    </tr>\n",
       "    <tr>\n",
       "      <th>2</th>\n",
       "      <td>3</td>\n",
       "      <td>B000LQOCH0</td>\n",
       "      <td>ABXLMWJIXXAIN</td>\n",
       "      <td>Natalia Corres \"Natalia Corres\"</td>\n",
       "      <td>1</td>\n",
       "      <td>1</td>\n",
       "      <td>4</td>\n",
       "      <td>1219017600</td>\n",
       "      <td>\"Delight\" says it all</td>\n",
       "      <td>This is a confection that has been around a fe...</td>\n",
       "    </tr>\n",
       "    <tr>\n",
       "      <th>3</th>\n",
       "      <td>4</td>\n",
       "      <td>B000UA0QIQ</td>\n",
       "      <td>A395BORC6FGVXV</td>\n",
       "      <td>Karl</td>\n",
       "      <td>3</td>\n",
       "      <td>3</td>\n",
       "      <td>2</td>\n",
       "      <td>1307923200</td>\n",
       "      <td>Cough Medicine</td>\n",
       "      <td>If you are looking for the secret ingredient i...</td>\n",
       "    </tr>\n",
       "    <tr>\n",
       "      <th>4</th>\n",
       "      <td>5</td>\n",
       "      <td>B006K2ZZ7K</td>\n",
       "      <td>A1UQRSCLF8GW1T</td>\n",
       "      <td>Michael D. Bigham \"M. Wassir\"</td>\n",
       "      <td>0</td>\n",
       "      <td>0</td>\n",
       "      <td>5</td>\n",
       "      <td>1350777600</td>\n",
       "      <td>Great taffy</td>\n",
       "      <td>Great taffy at a great price.  There was a wid...</td>\n",
       "    </tr>\n",
       "  </tbody>\n",
       "</table>\n",
       "</div>"
      ],
      "text/plain": [
       "   Id   ProductId          UserId                      ProfileName  \\\n",
       "0   1  B001E4KFG0  A3SGXH7AUHU8GW                       delmartian   \n",
       "1   2  B00813GRG4  A1D87F6ZCVE5NK                           dll pa   \n",
       "2   3  B000LQOCH0   ABXLMWJIXXAIN  Natalia Corres \"Natalia Corres\"   \n",
       "3   4  B000UA0QIQ  A395BORC6FGVXV                             Karl   \n",
       "4   5  B006K2ZZ7K  A1UQRSCLF8GW1T    Michael D. Bigham \"M. Wassir\"   \n",
       "\n",
       "   HelpfulnessNumerator  HelpfulnessDenominator  Score        Time  \\\n",
       "0                     1                       1      5  1303862400   \n",
       "1                     0                       0      1  1346976000   \n",
       "2                     1                       1      4  1219017600   \n",
       "3                     3                       3      2  1307923200   \n",
       "4                     0                       0      5  1350777600   \n",
       "\n",
       "                 Summary                                               Text  \n",
       "0  Good Quality Dog Food  I have bought several of the Vitality canned d...  \n",
       "1      Not as Advertised  Product arrived labeled as Jumbo Salted Peanut...  \n",
       "2  \"Delight\" says it all  This is a confection that has been around a fe...  \n",
       "3         Cough Medicine  If you are looking for the secret ingredient i...  \n",
       "4            Great taffy  Great taffy at a great price.  There was a wid...  "
      ]
     },
     "execution_count": 55,
     "metadata": {},
     "output_type": "execute_result"
    }
   ],
   "source": [
    "# Check dataframe after initial cleaning \n",
    "df.head()"
   ]
  },
  {
   "cell_type": "markdown",
   "metadata": {},
   "source": [
    "Create Helpfulness Percentage Feature"
   ]
  },
  {
   "cell_type": "code",
   "execution_count": 56,
   "metadata": {},
   "outputs": [
    {
     "data": {
      "application/vnd.microsoft.datawrangler.viewer.v0+json": {
       "columns": [
        {
         "name": "index",
         "rawType": "int64",
         "type": "integer"
        },
        {
         "name": "Id",
         "rawType": "int64",
         "type": "integer"
        },
        {
         "name": "ProductId",
         "rawType": "object",
         "type": "string"
        },
        {
         "name": "UserId",
         "rawType": "object",
         "type": "string"
        },
        {
         "name": "ProfileName",
         "rawType": "object",
         "type": "string"
        },
        {
         "name": "Score",
         "rawType": "int64",
         "type": "integer"
        },
        {
         "name": "Time",
         "rawType": "int64",
         "type": "integer"
        },
        {
         "name": "Summary",
         "rawType": "object",
         "type": "string"
        },
        {
         "name": "Text",
         "rawType": "object",
         "type": "string"
        },
        {
         "name": "HelpfulnessPercentage",
         "rawType": "float64",
         "type": "float"
        }
       ],
       "ref": "c11b97b3-6ffa-40a4-89fc-013cb612b945",
       "rows": [
        [
         "0",
         "1",
         "B001E4KFG0",
         "A3SGXH7AUHU8GW",
         "delmartian",
         "5",
         "1303862400",
         "Good Quality Dog Food",
         "I have bought several of the Vitality canned dog food products and have found them all to be of good quality. The product looks more like a stew than a processed meat and it smells better. My Labrador is finicky and she appreciates this product better than  most.",
         "100.0"
        ],
        [
         "1",
         "2",
         "B00813GRG4",
         "A1D87F6ZCVE5NK",
         "dll pa",
         "1",
         "1346976000",
         "Not as Advertised",
         "Product arrived labeled as Jumbo Salted Peanuts...the peanuts were actually small sized unsalted. Not sure if this was an error or if the vendor intended to represent the product as \"Jumbo\".",
         "0.0"
        ],
        [
         "2",
         "3",
         "B000LQOCH0",
         "ABXLMWJIXXAIN",
         "Natalia Corres \"Natalia Corres\"",
         "4",
         "1219017600",
         "\"Delight\" says it all",
         "This is a confection that has been around a few centuries.  It is a light, pillowy citrus gelatin with nuts - in this case Filberts. And it is cut into tiny squares and then liberally coated with powdered sugar.  And it is a tiny mouthful of heaven.  Not too chewy, and very flavorful.  I highly recommend this yummy treat.  If you are familiar with the story of C.S. Lewis' \"The Lion, The Witch, and The Wardrobe\" - this is the treat that seduces Edmund into selling out his Brother and Sisters to the Witch.",
         "100.0"
        ],
        [
         "3",
         "4",
         "B000UA0QIQ",
         "A395BORC6FGVXV",
         "Karl",
         "2",
         "1307923200",
         "Cough Medicine",
         "If you are looking for the secret ingredient in Robitussin I believe I have found it.  I got this in addition to the Root Beer Extract I ordered (which was good) and made some cherry soda.  The flavor is very medicinal.",
         "100.0"
        ],
        [
         "4",
         "5",
         "B006K2ZZ7K",
         "A1UQRSCLF8GW1T",
         "Michael D. Bigham \"M. Wassir\"",
         "5",
         "1350777600",
         "Great taffy",
         "Great taffy at a great price.  There was a wide assortment of yummy taffy.  Delivery was very quick.  If your a taffy lover, this is a deal.",
         "0.0"
        ]
       ],
       "shape": {
        "columns": 9,
        "rows": 5
       }
      },
      "text/html": [
       "<div>\n",
       "<style scoped>\n",
       "    .dataframe tbody tr th:only-of-type {\n",
       "        vertical-align: middle;\n",
       "    }\n",
       "\n",
       "    .dataframe tbody tr th {\n",
       "        vertical-align: top;\n",
       "    }\n",
       "\n",
       "    .dataframe thead th {\n",
       "        text-align: right;\n",
       "    }\n",
       "</style>\n",
       "<table border=\"1\" class=\"dataframe\">\n",
       "  <thead>\n",
       "    <tr style=\"text-align: right;\">\n",
       "      <th></th>\n",
       "      <th>Id</th>\n",
       "      <th>ProductId</th>\n",
       "      <th>UserId</th>\n",
       "      <th>ProfileName</th>\n",
       "      <th>Score</th>\n",
       "      <th>Time</th>\n",
       "      <th>Summary</th>\n",
       "      <th>Text</th>\n",
       "      <th>HelpfulnessPercentage</th>\n",
       "    </tr>\n",
       "  </thead>\n",
       "  <tbody>\n",
       "    <tr>\n",
       "      <th>0</th>\n",
       "      <td>1</td>\n",
       "      <td>B001E4KFG0</td>\n",
       "      <td>A3SGXH7AUHU8GW</td>\n",
       "      <td>delmartian</td>\n",
       "      <td>5</td>\n",
       "      <td>1303862400</td>\n",
       "      <td>Good Quality Dog Food</td>\n",
       "      <td>I have bought several of the Vitality canned d...</td>\n",
       "      <td>100.0</td>\n",
       "    </tr>\n",
       "    <tr>\n",
       "      <th>1</th>\n",
       "      <td>2</td>\n",
       "      <td>B00813GRG4</td>\n",
       "      <td>A1D87F6ZCVE5NK</td>\n",
       "      <td>dll pa</td>\n",
       "      <td>1</td>\n",
       "      <td>1346976000</td>\n",
       "      <td>Not as Advertised</td>\n",
       "      <td>Product arrived labeled as Jumbo Salted Peanut...</td>\n",
       "      <td>0.0</td>\n",
       "    </tr>\n",
       "    <tr>\n",
       "      <th>2</th>\n",
       "      <td>3</td>\n",
       "      <td>B000LQOCH0</td>\n",
       "      <td>ABXLMWJIXXAIN</td>\n",
       "      <td>Natalia Corres \"Natalia Corres\"</td>\n",
       "      <td>4</td>\n",
       "      <td>1219017600</td>\n",
       "      <td>\"Delight\" says it all</td>\n",
       "      <td>This is a confection that has been around a fe...</td>\n",
       "      <td>100.0</td>\n",
       "    </tr>\n",
       "    <tr>\n",
       "      <th>3</th>\n",
       "      <td>4</td>\n",
       "      <td>B000UA0QIQ</td>\n",
       "      <td>A395BORC6FGVXV</td>\n",
       "      <td>Karl</td>\n",
       "      <td>2</td>\n",
       "      <td>1307923200</td>\n",
       "      <td>Cough Medicine</td>\n",
       "      <td>If you are looking for the secret ingredient i...</td>\n",
       "      <td>100.0</td>\n",
       "    </tr>\n",
       "    <tr>\n",
       "      <th>4</th>\n",
       "      <td>5</td>\n",
       "      <td>B006K2ZZ7K</td>\n",
       "      <td>A1UQRSCLF8GW1T</td>\n",
       "      <td>Michael D. Bigham \"M. Wassir\"</td>\n",
       "      <td>5</td>\n",
       "      <td>1350777600</td>\n",
       "      <td>Great taffy</td>\n",
       "      <td>Great taffy at a great price.  There was a wid...</td>\n",
       "      <td>0.0</td>\n",
       "    </tr>\n",
       "  </tbody>\n",
       "</table>\n",
       "</div>"
      ],
      "text/plain": [
       "   Id   ProductId          UserId                      ProfileName  Score  \\\n",
       "0   1  B001E4KFG0  A3SGXH7AUHU8GW                       delmartian      5   \n",
       "1   2  B00813GRG4  A1D87F6ZCVE5NK                           dll pa      1   \n",
       "2   3  B000LQOCH0   ABXLMWJIXXAIN  Natalia Corres \"Natalia Corres\"      4   \n",
       "3   4  B000UA0QIQ  A395BORC6FGVXV                             Karl      2   \n",
       "4   5  B006K2ZZ7K  A1UQRSCLF8GW1T    Michael D. Bigham \"M. Wassir\"      5   \n",
       "\n",
       "         Time                Summary  \\\n",
       "0  1303862400  Good Quality Dog Food   \n",
       "1  1346976000      Not as Advertised   \n",
       "2  1219017600  \"Delight\" says it all   \n",
       "3  1307923200         Cough Medicine   \n",
       "4  1350777600            Great taffy   \n",
       "\n",
       "                                                Text  HelpfulnessPercentage  \n",
       "0  I have bought several of the Vitality canned d...                  100.0  \n",
       "1  Product arrived labeled as Jumbo Salted Peanut...                    0.0  \n",
       "2  This is a confection that has been around a fe...                  100.0  \n",
       "3  If you are looking for the secret ingredient i...                  100.0  \n",
       "4  Great taffy at a great price.  There was a wid...                    0.0  "
      ]
     },
     "execution_count": 56,
     "metadata": {},
     "output_type": "execute_result"
    }
   ],
   "source": [
    "# Create the new Helpfulness column \n",
    "df[\"HelpfulnessPercentage\"] = df[[\"HelpfulnessNumerator\", \"HelpfulnessDenominator\"]].apply(\n",
    "    lambda x: (x[\"HelpfulnessNumerator\"] / x[\"HelpfulnessDenominator\"]) * 100 if x[\"HelpfulnessDenominator\"] > 0 else 0, axis=1\n",
    ")\n",
    "\n",
    "# Drop the HelpfulnessNumerator and HelpfulnessDenominator columns\n",
    "df.drop(columns=[\"HelpfulnessNumerator\", \"HelpfulnessDenominator\"], inplace=True)\n",
    "\n",
    "# Check the dataframe\n",
    "df.head()"
   ]
  },
  {
   "cell_type": "markdown",
   "metadata": {},
   "source": [
    "Helfulness Percentage Distribution"
   ]
  },
  {
   "cell_type": "code",
   "execution_count": 63,
   "metadata": {},
   "outputs": [
    {
     "data": {
      "application/vnd.microsoft.datawrangler.viewer.v0+json": {
       "columns": [
        {
         "name": "index",
         "rawType": "object",
         "type": "string"
        },
        {
         "name": "HelpfulnessPercentage",
         "rawType": "float64",
         "type": "float"
        }
       ],
       "ref": "8733cfce-7d9c-4665-ab69-3318464a0616",
       "rows": [
        [
         "count",
         "364122.0"
        ],
        [
         "mean",
         "42.28694687174738"
        ],
        [
         "std",
         "46.682364218649575"
        ],
        [
         "min",
         "0.0"
        ],
        [
         "25%",
         "0.0"
        ],
        [
         "50%",
         "0.0"
        ],
        [
         "75%",
         "100.0"
        ],
        [
         "max",
         "100.0"
        ]
       ],
       "shape": {
        "columns": 1,
        "rows": 8
       }
      },
      "text/plain": [
       "count    364122.000000\n",
       "mean         42.286947\n",
       "std          46.682364\n",
       "min           0.000000\n",
       "25%           0.000000\n",
       "50%           0.000000\n",
       "75%         100.000000\n",
       "max         100.000000\n",
       "Name: HelpfulnessPercentage, dtype: float64"
      ]
     },
     "execution_count": 63,
     "metadata": {},
     "output_type": "execute_result"
    }
   ],
   "source": [
    "# Descriptive statistics for the new HelpfulnessPercentage column\n",
    "df[\"HelpfulnessPercentage\"].describe()"
   ]
  },
  {
   "cell_type": "code",
   "execution_count": 66,
   "metadata": {},
   "outputs": [
    {
     "name": "stderr",
     "output_type": "stream",
     "text": [
      "/Users/youhorng/Desktop/data_science_projects/sentiment_analysis/.venv/lib/python3.12/site-packages/seaborn/_oldcore.py:1119: FutureWarning: use_inf_as_na option is deprecated and will be removed in a future version. Convert inf values to NaN before operating instead.\n",
      "  with pd.option_context('mode.use_inf_as_na', True):\n"
     ]
    },
    {
     "data": {
      "image/png": "[encoded data removed]",
      "text/plain": [
       "<Figure size 1000x600 with 1 Axes>"
      ]
     },
     "metadata": {},
     "output_type": "display_data"
    }
   ],
   "source": [
    "# Plot the distribution in Histogram\n",
    "plt.figure(figsize=(10, 6))\n",
    "sns.histplot(data=df, x=\"HelpfulnessPercentage\", bins=50)\n",
    "plt.title(\"Distribution of Helpfulness Percentage\")\n",
    "plt.xlabel(\"Helpfulness Percentage\")\n",
    "plt.ylabel(\"Frequency\")\n",
    "plt.show()"
   ]
  },
  {
   "cell_type": "markdown",
   "metadata": {},
   "source": [
    "**Inference**: According to the distribution plot above, we have found that:\n",
    "\n",
    "- **50%** of the whole data points have `HelpfulnessPercentage` of **0.0%**.\n",
    "\n",
    "- The other **50%** has a range from above **0.0%** to **100%** with most of the points clustered here. \n",
    "\n",
    "- So, we can assume that, most of the reviews either are helpful and not available at all. "
   ]
  },
  {
   "cell_type": "markdown",
   "metadata": {},
   "source": [
    "Create Helpfulness Indicator Column"
   ]
  },
  {
   "cell_type": "code",
   "execution_count": 68,
   "metadata": {},
   "outputs": [
    {
     "data": {
      "application/vnd.microsoft.datawrangler.viewer.v0+json": {
       "columns": [
        {
         "name": "index",
         "rawType": "int64",
         "type": "integer"
        },
        {
         "name": "Id",
         "rawType": "int64",
         "type": "integer"
        },
        {
         "name": "ProductId",
         "rawType": "object",
         "type": "string"
        },
        {
         "name": "UserId",
         "rawType": "object",
         "type": "string"
        },
        {
         "name": "ProfileName",
         "rawType": "object",
         "type": "string"
        },
        {
         "name": "Score",
         "rawType": "int64",
         "type": "integer"
        },
        {
         "name": "Time",
         "rawType": "int64",
         "type": "integer"
        },
        {
         "name": "Summary",
         "rawType": "object",
         "type": "string"
        },
        {
         "name": "Text",
         "rawType": "object",
         "type": "string"
        },
        {
         "name": "HelpfulnessIndicator",
         "rawType": "object",
         "type": "string"
        }
       ],
       "ref": "a575de5e-7e1f-45aa-b761-47f7e91c569f",
       "rows": [
        [
         "0",
         "1",
         "B001E4KFG0",
         "A3SGXH7AUHU8GW",
         "delmartian",
         "5",
         "1303862400",
         "Good Quality Dog Food",
         "I have bought several of the Vitality canned dog food products and have found them all to be of good quality. The product looks more like a stew than a processed meat and it smells better. My Labrador is finicky and she appreciates this product better than  most.",
         "Useful"
        ],
        [
         "1",
         "2",
         "B00813GRG4",
         "A1D87F6ZCVE5NK",
         "dll pa",
         "1",
         "1346976000",
         "Not as Advertised",
         "Product arrived labeled as Jumbo Salted Peanuts...the peanuts were actually small sized unsalted. Not sure if this was an error or if the vendor intended to represent the product as \"Jumbo\".",
         "Not Available"
        ],
        [
         "2",
         "3",
         "B000LQOCH0",
         "ABXLMWJIXXAIN",
         "Natalia Corres \"Natalia Corres\"",
         "4",
         "1219017600",
         "\"Delight\" says it all",
         "This is a confection that has been around a few centuries.  It is a light, pillowy citrus gelatin with nuts - in this case Filberts. And it is cut into tiny squares and then liberally coated with powdered sugar.  And it is a tiny mouthful of heaven.  Not too chewy, and very flavorful.  I highly recommend this yummy treat.  If you are familiar with the story of C.S. Lewis' \"The Lion, The Witch, and The Wardrobe\" - this is the treat that seduces Edmund into selling out his Brother and Sisters to the Witch.",
         "Useful"
        ],
        [
         "3",
         "4",
         "B000UA0QIQ",
         "A395BORC6FGVXV",
         "Karl",
         "2",
         "1307923200",
         "Cough Medicine",
         "If you are looking for the secret ingredient in Robitussin I believe I have found it.  I got this in addition to the Root Beer Extract I ordered (which was good) and made some cherry soda.  The flavor is very medicinal.",
         "Useful"
        ],
        [
         "4",
         "5",
         "B006K2ZZ7K",
         "A1UQRSCLF8GW1T",
         "Michael D. Bigham \"M. Wassir\"",
         "5",
         "1350777600",
         "Great taffy",
         "Great taffy at a great price.  There was a wide assortment of yummy taffy.  Delivery was very quick.  If your a taffy lover, this is a deal.",
         "Not Available"
        ]
       ],
       "shape": {
        "columns": 9,
        "rows": 5
       }
      },
      "text/html": [
       "<div>\n",
       "<style scoped>\n",
       "    .dataframe tbody tr th:only-of-type {\n",
       "        vertical-align: middle;\n",
       "    }\n",
       "\n",
       "    .dataframe tbody tr th {\n",
       "        vertical-align: top;\n",
       "    }\n",
       "\n",
       "    .dataframe thead th {\n",
       "        text-align: right;\n",
       "    }\n",
       "</style>\n",
       "<table border=\"1\" class=\"dataframe\">\n",
       "  <thead>\n",
       "    <tr style=\"text-align: right;\">\n",
       "      <th></th>\n",
       "      <th>Id</th>\n",
       "      <th>ProductId</th>\n",
       "      <th>UserId</th>\n",
       "      <th>ProfileName</th>\n",
       "      <th>Score</th>\n",
       "      <th>Time</th>\n",
       "      <th>Summary</th>\n",
       "      <th>Text</th>\n",
       "      <th>HelpfulnessIndicator</th>\n",
       "    </tr>\n",
       "  </thead>\n",
       "  <tbody>\n",
       "    <tr>\n",
       "      <th>0</th>\n",
       "      <td>1</td>\n",
       "      <td>B001E4KFG0</td>\n",
       "      <td>A3SGXH7AUHU8GW</td>\n",
       "      <td>delmartian</td>\n",
       "      <td>5</td>\n",
       "      <td>1303862400</td>\n",
       "      <td>Good Quality Dog Food</td>\n",
       "      <td>I have bought several of the Vitality canned d...</td>\n",
       "      <td>Useful</td>\n",
       "    </tr>\n",
       "    <tr>\n",
       "      <th>1</th>\n",
       "      <td>2</td>\n",
       "      <td>B00813GRG4</td>\n",
       "      <td>A1D87F6ZCVE5NK</td>\n",
       "      <td>dll pa</td>\n",
       "      <td>1</td>\n",
       "      <td>1346976000</td>\n",
       "      <td>Not as Advertised</td>\n",
       "      <td>Product arrived labeled as Jumbo Salted Peanut...</td>\n",
       "      <td>Not Available</td>\n",
       "    </tr>\n",
       "    <tr>\n",
       "      <th>2</th>\n",
       "      <td>3</td>\n",
       "      <td>B000LQOCH0</td>\n",
       "      <td>ABXLMWJIXXAIN</td>\n",
       "      <td>Natalia Corres \"Natalia Corres\"</td>\n",
       "      <td>4</td>\n",
       "      <td>1219017600</td>\n",
       "      <td>\"Delight\" says it all</td>\n",
       "      <td>This is a confection that has been around a fe...</td>\n",
       "      <td>Useful</td>\n",
       "    </tr>\n",
       "    <tr>\n",
       "      <th>3</th>\n",
       "      <td>4</td>\n",
       "      <td>B000UA0QIQ</td>\n",
       "      <td>A395BORC6FGVXV</td>\n",
       "      <td>Karl</td>\n",
       "      <td>2</td>\n",
       "      <td>1307923200</td>\n",
       "      <td>Cough Medicine</td>\n",
       "      <td>If you are looking for the secret ingredient i...</td>\n",
       "      <td>Useful</td>\n",
       "    </tr>\n",
       "    <tr>\n",
       "      <th>4</th>\n",
       "      <td>5</td>\n",
       "      <td>B006K2ZZ7K</td>\n",
       "      <td>A1UQRSCLF8GW1T</td>\n",
       "      <td>Michael D. Bigham \"M. Wassir\"</td>\n",
       "      <td>5</td>\n",
       "      <td>1350777600</td>\n",
       "      <td>Great taffy</td>\n",
       "      <td>Great taffy at a great price.  There was a wid...</td>\n",
       "      <td>Not Available</td>\n",
       "    </tr>\n",
       "  </tbody>\n",
       "</table>\n",
       "</div>"
      ],
      "text/plain": [
       "   Id   ProductId          UserId                      ProfileName  Score  \\\n",
       "0   1  B001E4KFG0  A3SGXH7AUHU8GW                       delmartian      5   \n",
       "1   2  B00813GRG4  A1D87F6ZCVE5NK                           dll pa      1   \n",
       "2   3  B000LQOCH0   ABXLMWJIXXAIN  Natalia Corres \"Natalia Corres\"      4   \n",
       "3   4  B000UA0QIQ  A395BORC6FGVXV                             Karl      2   \n",
       "4   5  B006K2ZZ7K  A1UQRSCLF8GW1T    Michael D. Bigham \"M. Wassir\"      5   \n",
       "\n",
       "         Time                Summary  \\\n",
       "0  1303862400  Good Quality Dog Food   \n",
       "1  1346976000      Not as Advertised   \n",
       "2  1219017600  \"Delight\" says it all   \n",
       "3  1307923200         Cough Medicine   \n",
       "4  1350777600            Great taffy   \n",
       "\n",
       "                                                Text HelpfulnessIndicator  \n",
       "0  I have bought several of the Vitality canned d...               Useful  \n",
       "1  Product arrived labeled as Jumbo Salted Peanut...        Not Available  \n",
       "2  This is a confection that has been around a fe...               Useful  \n",
       "3  If you are looking for the secret ingredient i...               Useful  \n",
       "4  Great taffy at a great price.  There was a wid...        Not Available  "
      ]
     },
     "execution_count": 68,
     "metadata": {},
     "output_type": "execute_result"
    }
   ],
   "source": [
    "# Assign Helpfulness indicator \n",
    "def assign_helpfulness_indicator(helpfulness_percentage):\n",
    "    if helpfulness_percentage >= 75:\n",
    "        return \"Useful\"\n",
    "    elif helpfulness_percentage >= 40:\n",
    "        return \"Intermediate\"\n",
    "    elif helpfulness_percentage > 0 and helpfulness_percentage < 40:\n",
    "        return \"Not Useful\"\n",
    "    else:\n",
    "        return \"Not Available\"\n",
    "    \n",
    "# Apply the function to create a new column\n",
    "df[\"HelpfulnessIndicator\"] = df[\"HelpfulnessPercentage\"].apply(assign_helpfulness_indicator)\n",
    "\n",
    "# Drop the HelpfulnessPercentage column\n",
    "df.drop(columns=[\"HelpfulnessPercentage\"], inplace=True)\n",
    "\n",
    "# Check the dataframe\n",
    "df.head()"
   ]
  },
  {
   "cell_type": "markdown",
   "metadata": {},
   "source": [
    "Check Helpfulness Indicator Distribution"
   ]
  },
  {
   "cell_type": "code",
   "execution_count": 74,
   "metadata": {},
   "outputs": [
    {
     "data": {
      "image/png": "[encoded data removed]",
      "text/plain": [
       "<Figure size 1000x600 with 1 Axes>"
      ]
     },
     "metadata": {},
     "output_type": "display_data"
    }
   ],
   "source": [
    "# Create countplot of each indicator\n",
    "sns.set_theme(style=\"whitegrid\")\n",
    "plt.figure(figsize=(10, 6))\n",
    "ax = sns.countplot(data=df, x=\"HelpfulnessIndicator\", \n",
    "                   order=[\"Not Available\", \"Not Useful\", \"Intermediate\", \"Useful\"],)\n",
    "\n",
    "# Add data label\n",
    "for container in ax.containers:\n",
    "    ax.bar_label(container)\n",
    "\n",
    "plt.title(\"Distribution of Helpfulness Indicator\")\n",
    "plt.xlabel(\"Helpfulness Indicator\")\n",
    "plt.ylabel(\"Count\")\n",
    "plt.show()\n"
   ]
  },
  {
   "cell_type": "code",
   "execution_count": 77,
   "metadata": {},
   "outputs": [
    {
     "data": {
      "image/png": "[encoded data removed]",
      "text/plain": [
       "<Figure size 600x600 with 1 Axes>"
      ]
     },
     "metadata": {},
     "output_type": "display_data"
    }
   ],
   "source": [
    "# Count score frequencies\n",
    "sns.set_theme(style=\"whitegrid\")\n",
    "score_counts = df['HelpfulnessIndicator'].value_counts().sort_index()\n",
    "\n",
    "# Define labels and sizes\n",
    "labels = [f'{indicator}' for indicator in score_counts.index]\n",
    "sizes = score_counts.values.astype(float)  \n",
    "\n",
    "# Plot\n",
    "plt.figure(figsize=(6, 6))\n",
    "plt.pie(sizes, labels=labels, autopct=\"%1.1f%%\", startangle=140)\n",
    "plt.title(\"Distribution of Helpfulness Indicator\")\n",
    "plt.axis(\"equal\")  \n",
    "plt.show()"
   ]
  },
  {
   "cell_type": "markdown",
   "metadata": {},
   "source": [
    "Assign Sentiment Class"
   ]
  },
  {
   "cell_type": "code",
   "execution_count": 75,
   "metadata": {},
   "outputs": [
    {
     "data": {
      "application/vnd.microsoft.datawrangler.viewer.v0+json": {
       "columns": [
        {
         "name": "index",
         "rawType": "int64",
         "type": "integer"
        },
        {
         "name": "Id",
         "rawType": "int64",
         "type": "integer"
        },
        {
         "name": "ProductId",
         "rawType": "object",
         "type": "string"
        },
        {
         "name": "UserId",
         "rawType": "object",
         "type": "string"
        },
        {
         "name": "ProfileName",
         "rawType": "object",
         "type": "string"
        },
        {
         "name": "Score",
         "rawType": "int64",
         "type": "integer"
        },
        {
         "name": "Time",
         "rawType": "int64",
         "type": "integer"
        },
        {
         "name": "Summary",
         "rawType": "object",
         "type": "string"
        },
        {
         "name": "Text",
         "rawType": "object",
         "type": "string"
        },
        {
         "name": "HelpfulnessIndicator",
         "rawType": "object",
         "type": "string"
        },
        {
         "name": "SentimentClass",
         "rawType": "object",
         "type": "string"
        }
       ],
       "ref": "a80579a8-f473-45a1-83ea-bb720e53c88b",
       "rows": [
        [
         "0",
         "1",
         "B001E4KFG0",
         "A3SGXH7AUHU8GW",
         "delmartian",
         "5",
         "1303862400",
         "Good Quality Dog Food",
         "I have bought several of the Vitality canned dog food products and have found them all to be of good quality. The product looks more like a stew than a processed meat and it smells better. My Labrador is finicky and she appreciates this product better than  most.",
         "Useful",
         "Positive"
        ],
        [
         "1",
         "2",
         "B00813GRG4",
         "A1D87F6ZCVE5NK",
         "dll pa",
         "1",
         "1346976000",
         "Not as Advertised",
         "Product arrived labeled as Jumbo Salted Peanuts...the peanuts were actually small sized unsalted. Not sure if this was an error or if the vendor intended to represent the product as \"Jumbo\".",
         "Not Available",
         "Negative"
        ],
        [
         "2",
         "3",
         "B000LQOCH0",
         "ABXLMWJIXXAIN",
         "Natalia Corres \"Natalia Corres\"",
         "4",
         "1219017600",
         "\"Delight\" says it all",
         "This is a confection that has been around a few centuries.  It is a light, pillowy citrus gelatin with nuts - in this case Filberts. And it is cut into tiny squares and then liberally coated with powdered sugar.  And it is a tiny mouthful of heaven.  Not too chewy, and very flavorful.  I highly recommend this yummy treat.  If you are familiar with the story of C.S. Lewis' \"The Lion, The Witch, and The Wardrobe\" - this is the treat that seduces Edmund into selling out his Brother and Sisters to the Witch.",
         "Useful",
         "Positive"
        ],
        [
         "3",
         "4",
         "B000UA0QIQ",
         "A395BORC6FGVXV",
         "Karl",
         "2",
         "1307923200",
         "Cough Medicine",
         "If you are looking for the secret ingredient in Robitussin I believe I have found it.  I got this in addition to the Root Beer Extract I ordered (which was good) and made some cherry soda.  The flavor is very medicinal.",
         "Useful",
         "Negative"
        ],
        [
         "4",
         "5",
         "B006K2ZZ7K",
         "A1UQRSCLF8GW1T",
         "Michael D. Bigham \"M. Wassir\"",
         "5",
         "1350777600",
         "Great taffy",
         "Great taffy at a great price.  There was a wide assortment of yummy taffy.  Delivery was very quick.  If your a taffy lover, this is a deal.",
         "Not Available",
         "Positive"
        ]
       ],
       "shape": {
        "columns": 10,
        "rows": 5
       }
      },
      "text/html": [
       "<div>\n",
       "<style scoped>\n",
       "    .dataframe tbody tr th:only-of-type {\n",
       "        vertical-align: middle;\n",
       "    }\n",
       "\n",
       "    .dataframe tbody tr th {\n",
       "        vertical-align: top;\n",
       "    }\n",
       "\n",
       "    .dataframe thead th {\n",
       "        text-align: right;\n",
       "    }\n",
       "</style>\n",
       "<table border=\"1\" class=\"dataframe\">\n",
       "  <thead>\n",
       "    <tr style=\"text-align: right;\">\n",
       "      <th></th>\n",
       "      <th>Id</th>\n",
       "      <th>ProductId</th>\n",
       "      <th>UserId</th>\n",
       "      <th>ProfileName</th>\n",
       "      <th>Score</th>\n",
       "      <th>Time</th>\n",
       "      <th>Summary</th>\n",
       "      <th>Text</th>\n",
       "      <th>HelpfulnessIndicator</th>\n",
       "      <th>SentimentClass</th>\n",
       "    </tr>\n",
       "  </thead>\n",
       "  <tbody>\n",
       "    <tr>\n",
       "      <th>0</th>\n",
       "      <td>1</td>\n",
       "      <td>B001E4KFG0</td>\n",
       "      <td>A3SGXH7AUHU8GW</td>\n",
       "      <td>delmartian</td>\n",
       "      <td>5</td>\n",
       "      <td>1303862400</td>\n",
       "      <td>Good Quality Dog Food</td>\n",
       "      <td>I have bought several of the Vitality canned d...</td>\n",
       "      <td>Useful</td>\n",
       "      <td>Positive</td>\n",
       "    </tr>\n",
       "    <tr>\n",
       "      <th>1</th>\n",
       "      <td>2</td>\n",
       "      <td>B00813GRG4</td>\n",
       "      <td>A1D87F6ZCVE5NK</td>\n",
       "      <td>dll pa</td>\n",
       "      <td>1</td>\n",
       "      <td>1346976000</td>\n",
       "      <td>Not as Advertised</td>\n",
       "      <td>Product arrived labeled as Jumbo Salted Peanut...</td>\n",
       "      <td>Not Available</td>\n",
       "      <td>Negative</td>\n",
       "    </tr>\n",
       "    <tr>\n",
       "      <th>2</th>\n",
       "      <td>3</td>\n",
       "      <td>B000LQOCH0</td>\n",
       "      <td>ABXLMWJIXXAIN</td>\n",
       "      <td>Natalia Corres \"Natalia Corres\"</td>\n",
       "      <td>4</td>\n",
       "      <td>1219017600</td>\n",
       "      <td>\"Delight\" says it all</td>\n",
       "      <td>This is a confection that has been around a fe...</td>\n",
       "      <td>Useful</td>\n",
       "      <td>Positive</td>\n",
       "    </tr>\n",
       "    <tr>\n",
       "      <th>3</th>\n",
       "      <td>4</td>\n",
       "      <td>B000UA0QIQ</td>\n",
       "      <td>A395BORC6FGVXV</td>\n",
       "      <td>Karl</td>\n",
       "      <td>2</td>\n",
       "      <td>1307923200</td>\n",
       "      <td>Cough Medicine</td>\n",
       "      <td>If you are looking for the secret ingredient i...</td>\n",
       "      <td>Useful</td>\n",
       "      <td>Negative</td>\n",
       "    </tr>\n",
       "    <tr>\n",
       "      <th>4</th>\n",
       "      <td>5</td>\n",
       "      <td>B006K2ZZ7K</td>\n",
       "      <td>A1UQRSCLF8GW1T</td>\n",
       "      <td>Michael D. Bigham \"M. Wassir\"</td>\n",
       "      <td>5</td>\n",
       "      <td>1350777600</td>\n",
       "      <td>Great taffy</td>\n",
       "      <td>Great taffy at a great price.  There was a wid...</td>\n",
       "      <td>Not Available</td>\n",
       "      <td>Positive</td>\n",
       "    </tr>\n",
       "  </tbody>\n",
       "</table>\n",
       "</div>"
      ],
      "text/plain": [
       "   Id   ProductId          UserId                      ProfileName  Score  \\\n",
       "0   1  B001E4KFG0  A3SGXH7AUHU8GW                       delmartian      5   \n",
       "1   2  B00813GRG4  A1D87F6ZCVE5NK                           dll pa      1   \n",
       "2   3  B000LQOCH0   ABXLMWJIXXAIN  Natalia Corres \"Natalia Corres\"      4   \n",
       "3   4  B000UA0QIQ  A395BORC6FGVXV                             Karl      2   \n",
       "4   5  B006K2ZZ7K  A1UQRSCLF8GW1T    Michael D. Bigham \"M. Wassir\"      5   \n",
       "\n",
       "         Time                Summary  \\\n",
       "0  1303862400  Good Quality Dog Food   \n",
       "1  1346976000      Not as Advertised   \n",
       "2  1219017600  \"Delight\" says it all   \n",
       "3  1307923200         Cough Medicine   \n",
       "4  1350777600            Great taffy   \n",
       "\n",
       "                                                Text HelpfulnessIndicator  \\\n",
       "0  I have bought several of the Vitality canned d...               Useful   \n",
       "1  Product arrived labeled as Jumbo Salted Peanut...        Not Available   \n",
       "2  This is a confection that has been around a fe...               Useful   \n",
       "3  If you are looking for the secret ingredient i...               Useful   \n",
       "4  Great taffy at a great price.  There was a wid...        Not Available   \n",
       "\n",
       "  SentimentClass  \n",
       "0       Positive  \n",
       "1       Negative  \n",
       "2       Positive  \n",
       "3       Negative  \n",
       "4       Positive  "
      ]
     },
     "execution_count": 75,
     "metadata": {},
     "output_type": "execute_result"
    }
   ],
   "source": [
    "# If rating score in [4,5], assign Positive\n",
    "def assign_sentiment(score):\n",
    "    if score in [4, 5]:\n",
    "        return \"Positive\"\n",
    "    else:\n",
    "        return \"Negative\"\n",
    "    \n",
    "# Apply the function to create a new column\n",
    "df[\"SentimentClass\"] = df[\"Score\"].apply(assign_sentiment)\n",
    "\n",
    "# Check the dataframe\n",
    "df.head()"
   ]
  },
  {
   "cell_type": "markdown",
   "metadata": {},
   "source": [
    "Check Distribution of Sentiment Class"
   ]
  },
  {
   "cell_type": "code",
   "execution_count": 78,
   "metadata": {},
   "outputs": [
    {
     "data": {
      "image/png": "[encoded data removed]",
      "text/plain": [
       "<Figure size 600x600 with 1 Axes>"
      ]
     },
     "metadata": {},
     "output_type": "display_data"
    }
   ],
   "source": [
    "# Count score frequencies\n",
    "sns.set_theme(style=\"whitegrid\")\n",
    "score_counts = df['SentimentClass'].value_counts().sort_index()\n",
    "\n",
    "# Define labels and sizes\n",
    "labels = [f'{sentiment}' for sentiment in score_counts.index]\n",
    "sizes = score_counts.values.astype(float)  \n",
    "\n",
    "# Plot\n",
    "plt.figure(figsize=(6, 6))\n",
    "plt.pie(sizes, labels=labels, autopct=\"%1.1f%%\", startangle=140)\n",
    "plt.title(\"Distribution of Sentiment Class\")\n",
    "plt.axis(\"equal\")  \n",
    "plt.show()"
   ]
  },
  {
   "cell_type": "markdown",
   "metadata": {},
   "source": [
    "**Inference**: We have found that **Positive Review** is more common than **Negative Review** \n",
    "\n",
    "- The dataset contains imbalanced class."
   ]
  },
  {
   "cell_type": "markdown",
   "metadata": {},
   "source": [
    "Create Reviews Word Count Feature"
   ]
  },
  {
   "cell_type": "code",
   "execution_count": 79,
   "metadata": {},
   "outputs": [
    {
     "data": {
      "application/vnd.microsoft.datawrangler.viewer.v0+json": {
       "columns": [
        {
         "name": "index",
         "rawType": "int64",
         "type": "integer"
        },
        {
         "name": "Id",
         "rawType": "int64",
         "type": "integer"
        },
        {
         "name": "ProductId",
         "rawType": "object",
         "type": "string"
        },
        {
         "name": "UserId",
         "rawType": "object",
         "type": "string"
        },
        {
         "name": "ProfileName",
         "rawType": "object",
         "type": "string"
        },
        {
         "name": "Score",
         "rawType": "int64",
         "type": "integer"
        },
        {
         "name": "Time",
         "rawType": "int64",
         "type": "integer"
        },
        {
         "name": "Summary",
         "rawType": "object",
         "type": "string"
        },
        {
         "name": "Text",
         "rawType": "object",
         "type": "string"
        },
        {
         "name": "HelpfulnessIndicator",
         "rawType": "object",
         "type": "string"
        },
        {
         "name": "SentimentClass",
         "rawType": "object",
         "type": "string"
        },
        {
         "name": "ReviewLength",
         "rawType": "int64",
         "type": "integer"
        }
       ],
       "ref": "165c1ce9-b2c1-4b8a-9ffe-9cb46a867423",
       "rows": [
        [
         "0",
         "1",
         "B001E4KFG0",
         "A3SGXH7AUHU8GW",
         "delmartian",
         "5",
         "1303862400",
         "Good Quality Dog Food",
         "I have bought several of the Vitality canned dog food products and have found them all to be of good quality. The product looks more like a stew than a processed meat and it smells better. My Labrador is finicky and she appreciates this product better than  most.",
         "Useful",
         "Positive",
         "48"
        ],
        [
         "1",
         "2",
         "B00813GRG4",
         "A1D87F6ZCVE5NK",
         "dll pa",
         "1",
         "1346976000",
         "Not as Advertised",
         "Product arrived labeled as Jumbo Salted Peanuts...the peanuts were actually small sized unsalted. Not sure if this was an error or if the vendor intended to represent the product as \"Jumbo\".",
         "Not Available",
         "Negative",
         "31"
        ],
        [
         "2",
         "3",
         "B000LQOCH0",
         "ABXLMWJIXXAIN",
         "Natalia Corres \"Natalia Corres\"",
         "4",
         "1219017600",
         "\"Delight\" says it all",
         "This is a confection that has been around a few centuries.  It is a light, pillowy citrus gelatin with nuts - in this case Filberts. And it is cut into tiny squares and then liberally coated with powdered sugar.  And it is a tiny mouthful of heaven.  Not too chewy, and very flavorful.  I highly recommend this yummy treat.  If you are familiar with the story of C.S. Lewis' \"The Lion, The Witch, and The Wardrobe\" - this is the treat that seduces Edmund into selling out his Brother and Sisters to the Witch.",
         "Useful",
         "Positive",
         "94"
        ],
        [
         "3",
         "4",
         "B000UA0QIQ",
         "A395BORC6FGVXV",
         "Karl",
         "2",
         "1307923200",
         "Cough Medicine",
         "If you are looking for the secret ingredient in Robitussin I believe I have found it.  I got this in addition to the Root Beer Extract I ordered (which was good) and made some cherry soda.  The flavor is very medicinal.",
         "Useful",
         "Negative",
         "41"
        ],
        [
         "4",
         "5",
         "B006K2ZZ7K",
         "A1UQRSCLF8GW1T",
         "Michael D. Bigham \"M. Wassir\"",
         "5",
         "1350777600",
         "Great taffy",
         "Great taffy at a great price.  There was a wide assortment of yummy taffy.  Delivery was very quick.  If your a taffy lover, this is a deal.",
         "Not Available",
         "Positive",
         "27"
        ]
       ],
       "shape": {
        "columns": 11,
        "rows": 5
       }
      },
      "text/html": [
       "<div>\n",
       "<style scoped>\n",
       "    .dataframe tbody tr th:only-of-type {\n",
       "        vertical-align: middle;\n",
       "    }\n",
       "\n",
       "    .dataframe tbody tr th {\n",
       "        vertical-align: top;\n",
       "    }\n",
       "\n",
       "    .dataframe thead th {\n",
       "        text-align: right;\n",
       "    }\n",
       "</style>\n",
       "<table border=\"1\" class=\"dataframe\">\n",
       "  <thead>\n",
       "    <tr style=\"text-align: right;\">\n",
       "      <th></th>\n",
       "      <th>Id</th>\n",
       "      <th>ProductId</th>\n",
       "      <th>UserId</th>\n",
       "      <th>ProfileName</th>\n",
       "      <th>Score</th>\n",
       "      <th>Time</th>\n",
       "      <th>Summary</th>\n",
       "      <th>Text</th>\n",
       "      <th>HelpfulnessIndicator</th>\n",
       "      <th>SentimentClass</th>\n",
       "      <th>ReviewLength</th>\n",
       "    </tr>\n",
       "  </thead>\n",
       "  <tbody>\n",
       "    <tr>\n",
       "      <th>0</th>\n",
       "      <td>1</td>\n",
       "      <td>B001E4KFG0</td>\n",
       "      <td>A3SGXH7AUHU8GW</td>\n",
       "      <td>delmartian</td>\n",
       "      <td>5</td>\n",
       "      <td>1303862400</td>\n",
       "      <td>Good Quality Dog Food</td>\n",
       "      <td>I have bought several of the Vitality canned d...</td>\n",
       "      <td>Useful</td>\n",
       "      <td>Positive</td>\n",
       "      <td>48</td>\n",
       "    </tr>\n",
       "    <tr>\n",
       "      <th>1</th>\n",
       "      <td>2</td>\n",
       "      <td>B00813GRG4</td>\n",
       "      <td>A1D87F6ZCVE5NK</td>\n",
       "      <td>dll pa</td>\n",
       "      <td>1</td>\n",
       "      <td>1346976000</td>\n",
       "      <td>Not as Advertised</td>\n",
       "      <td>Product arrived labeled as Jumbo Salted Peanut...</td>\n",
       "      <td>Not Available</td>\n",
       "      <td>Negative</td>\n",
       "      <td>31</td>\n",
       "    </tr>\n",
       "    <tr>\n",
       "      <th>2</th>\n",
       "      <td>3</td>\n",
       "      <td>B000LQOCH0</td>\n",
       "      <td>ABXLMWJIXXAIN</td>\n",
       "      <td>Natalia Corres \"Natalia Corres\"</td>\n",
       "      <td>4</td>\n",
       "      <td>1219017600</td>\n",
       "      <td>\"Delight\" says it all</td>\n",
       "      <td>This is a confection that has been around a fe...</td>\n",
       "      <td>Useful</td>\n",
       "      <td>Positive</td>\n",
       "      <td>94</td>\n",
       "    </tr>\n",
       "    <tr>\n",
       "      <th>3</th>\n",
       "      <td>4</td>\n",
       "      <td>B000UA0QIQ</td>\n",
       "      <td>A395BORC6FGVXV</td>\n",
       "      <td>Karl</td>\n",
       "      <td>2</td>\n",
       "      <td>1307923200</td>\n",
       "      <td>Cough Medicine</td>\n",
       "      <td>If you are looking for the secret ingredient i...</td>\n",
       "      <td>Useful</td>\n",
       "      <td>Negative</td>\n",
       "      <td>41</td>\n",
       "    </tr>\n",
       "    <tr>\n",
       "      <th>4</th>\n",
       "      <td>5</td>\n",
       "      <td>B006K2ZZ7K</td>\n",
       "      <td>A1UQRSCLF8GW1T</td>\n",
       "      <td>Michael D. Bigham \"M. Wassir\"</td>\n",
       "      <td>5</td>\n",
       "      <td>1350777600</td>\n",
       "      <td>Great taffy</td>\n",
       "      <td>Great taffy at a great price.  There was a wid...</td>\n",
       "      <td>Not Available</td>\n",
       "      <td>Positive</td>\n",
       "      <td>27</td>\n",
       "    </tr>\n",
       "  </tbody>\n",
       "</table>\n",
       "</div>"
      ],
      "text/plain": [
       "   Id   ProductId          UserId                      ProfileName  Score  \\\n",
       "0   1  B001E4KFG0  A3SGXH7AUHU8GW                       delmartian      5   \n",
       "1   2  B00813GRG4  A1D87F6ZCVE5NK                           dll pa      1   \n",
       "2   3  B000LQOCH0   ABXLMWJIXXAIN  Natalia Corres \"Natalia Corres\"      4   \n",
       "3   4  B000UA0QIQ  A395BORC6FGVXV                             Karl      2   \n",
       "4   5  B006K2ZZ7K  A1UQRSCLF8GW1T    Michael D. Bigham \"M. Wassir\"      5   \n",
       "\n",
       "         Time                Summary  \\\n",
       "0  1303862400  Good Quality Dog Food   \n",
       "1  1346976000      Not as Advertised   \n",
       "2  1219017600  \"Delight\" says it all   \n",
       "3  1307923200         Cough Medicine   \n",
       "4  1350777600            Great taffy   \n",
       "\n",
       "                                                Text HelpfulnessIndicator  \\\n",
       "0  I have bought several of the Vitality canned d...               Useful   \n",
       "1  Product arrived labeled as Jumbo Salted Peanut...        Not Available   \n",
       "2  This is a confection that has been around a fe...               Useful   \n",
       "3  If you are looking for the secret ingredient i...               Useful   \n",
       "4  Great taffy at a great price.  There was a wid...        Not Available   \n",
       "\n",
       "  SentimentClass  ReviewLength  \n",
       "0       Positive            48  \n",
       "1       Negative            31  \n",
       "2       Positive            94  \n",
       "3       Negative            41  \n",
       "4       Positive            27  "
      ]
     },
     "execution_count": 79,
     "metadata": {},
     "output_type": "execute_result"
    }
   ],
   "source": [
    "# Check the length of reviews and assign new column\n",
    "df[\"ReviewLength\"] = df[\"Text\"].apply(lambda x: len(x.split()))\n",
    "\n",
    "# Check the dataframe\n",
    "df.head()"
   ]
  },
  {
   "cell_type": "code",
   "execution_count": 80,
   "metadata": {},
   "outputs": [
    {
     "data": {
      "application/vnd.microsoft.datawrangler.viewer.v0+json": {
       "columns": [
        {
         "name": "index",
         "rawType": "object",
         "type": "string"
        },
        {
         "name": "ReviewLength",
         "rawType": "float64",
         "type": "float"
        }
       ],
       "ref": "dd35e0a1-88f4-4422-8a3b-42c00a2aff17",
       "rows": [
        [
         "count",
         "364122.0"
        ],
        [
         "mean",
         "78.4954630590846"
        ],
        [
         "std",
         "76.09029322769405"
        ],
        [
         "min",
         "3.0"
        ],
        [
         "25%",
         "33.0"
        ],
        [
         "50%",
         "56.0"
        ],
        [
         "75%",
         "96.0"
        ],
        [
         "max",
         "2520.0"
        ]
       ],
       "shape": {
        "columns": 1,
        "rows": 8
       }
      },
      "text/plain": [
       "count    364122.000000\n",
       "mean         78.495463\n",
       "std          76.090293\n",
       "min           3.000000\n",
       "25%          33.000000\n",
       "50%          56.000000\n",
       "75%          96.000000\n",
       "max        2520.000000\n",
       "Name: ReviewLength, dtype: float64"
      ]
     },
     "execution_count": 80,
     "metadata": {},
     "output_type": "execute_result"
    }
   ],
   "source": [
    "# Check the distribution of review lengths\n",
    "df[\"ReviewLength\"].describe()   "
   ]
  },
  {
   "cell_type": "code",
   "execution_count": 81,
   "metadata": {},
   "outputs": [
    {
     "name": "stderr",
     "output_type": "stream",
     "text": [
      "/Users/youhorng/Desktop/data_science_projects/sentiment_analysis/.venv/lib/python3.12/site-packages/seaborn/_oldcore.py:1119: FutureWarning: use_inf_as_na option is deprecated and will be removed in a future version. Convert inf values to NaN before operating instead.\n",
      "  with pd.option_context('mode.use_inf_as_na', True):\n"
     ]
    },
    {
     "data": {
      "image/png": "[encoded data removed]",
      "text/plain": [
       "<Figure size 1000x600 with 1 Axes>"
      ]
     },
     "metadata": {},
     "output_type": "display_data"
    }
   ],
   "source": [
    "# Plot the distribution in Histogram\n",
    "plt.figure(figsize=(10, 6))\n",
    "sns.histplot(data=df, x=\"ReviewLength\", bins=50)\n",
    "plt.title(\"Distribution of Review Word Lengths\")\n",
    "plt.xlabel(\"Review Word Length\")\n",
    "plt.ylabel(\"Frequency\")\n",
    "plt.show()"
   ]
  },
  {
   "cell_type": "markdown",
   "metadata": {},
   "source": [
    "**Inference**: According to the distribution plot above, we have found that:\n",
    "\n",
    "- Most of the reviews have word legnths from 3 to 96, with outliers upto 2520."
   ]
  },
  {
   "cell_type": "code",
   "execution_count": null,
   "metadata": {},
   "outputs": [],
   "source": []
  }
 ],
 "metadata": {
  "kernelspec": {
   "display_name": ".venv",
   "language": "python",
   "name": "python3"
  },
  "language_info": {
   "codemirror_mode": {
    "name": "ipython",
    "version": 3
   },
   "file_extension": ".py",
   "mimetype": "text/x-python",
   "name": "python",
   "nbconvert_exporter": "python",
   "pygments_lexer": "ipython3",
   "version": "3.12.7"
  }
 },
 "nbformat": 4,
 "nbformat_minor": 2
}
